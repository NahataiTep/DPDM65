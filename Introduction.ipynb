{
  "nbformat": 4,
  "nbformat_minor": 0,
  "metadata": {
    "colab": {
      "name": "Introduction.ipynb",
      "provenance": [],
      "toc_visible": true,
      "authorship_tag": "ABX9TyPy1FWH3sftwZTREe40gMNw",
      "include_colab_link": true
    },
    "kernelspec": {
      "name": "python3",
      "display_name": "Python 3"
    },
    "language_info": {
      "name": "python"
    }
  },
  "cells": [
    {
      "cell_type": "markdown",
      "metadata": {
        "id": "view-in-github",
        "colab_type": "text"
      },
      "source": [
        "<a href=\"https://colab.research.google.com/github/NahataiTep/DPDM65/blob/main/Introduction.ipynb\" target=\"_parent\"><img src=\"https://colab.research.google.com/assets/colab-badge.svg\" alt=\"Open In Colab\"/></a>"
      ]
    },
    {
      "cell_type": "markdown",
      "source": [
        "#Heading"
      ],
      "metadata": {
        "id": "H9xhQFALm3Uh"
      }
    },
    {
      "cell_type": "code",
      "source": [
        "a = 1+2"
      ],
      "metadata": {
        "id": "tCFLsk6ko9hi"
      },
      "execution_count": 3,
      "outputs": []
    },
    {
      "cell_type": "code",
      "source": [
        "print(a)"
      ],
      "metadata": {
        "colab": {
          "base_uri": "https://localhost:8080/"
        },
        "id": "8adBJgyUo3XP",
        "outputId": "00d5f10d-463b-45be-8732-139c13af2794"
      },
      "execution_count": 4,
      "outputs": [
        {
          "output_type": "stream",
          "name": "stdout",
          "text": [
            "3\n"
          ]
        }
      ]
    },
    {
      "cell_type": "markdown",
      "source": [
        "##heading2"
      ],
      "metadata": {
        "id": "MMtyqZP5nYx-"
      }
    },
    {
      "cell_type": "code",
      "source": [
        "print('Nahatai')"
      ],
      "metadata": {
        "colab": {
          "base_uri": "https://localhost:8080/"
        },
        "id": "lKCqmTsGoQ86",
        "outputId": "6af3ca44-95ae-4e1b-a22b-e5afaa75c1dc"
      },
      "execution_count": 1,
      "outputs": [
        {
          "output_type": "stream",
          "name": "stdout",
          "text": [
            "Nahatai\n"
          ]
        }
      ]
    },
    {
      "cell_type": "code",
      "source": [
        "print('Tepkasetkul')"
      ],
      "metadata": {
        "colab": {
          "base_uri": "https://localhost:8080/"
        },
        "id": "ptgXzxxYo0t3",
        "outputId": "3e95e014-f98e-4fbc-9951-9acd068c6cdb"
      },
      "execution_count": 2,
      "outputs": [
        {
          "output_type": "stream",
          "name": "stdout",
          "text": [
            "Tepkasetkul\n"
          ]
        }
      ]
    },
    {
      "cell_type": "code",
      "source": [
        ""
      ],
      "metadata": {
        "id": "AXLPPsJfpGmA"
      },
      "execution_count": null,
      "outputs": []
    }
  ]
}