{
  "nbformat": 4,
  "nbformat_minor": 0,
  "metadata": {
    "colab": {
      "name": "Data101 (Chapter2).ipynb",
      "provenance": [],
      "toc_visible": true,
      "authorship_tag": "ABX9TyPMmFeJs6N/Vm36m5Y5RsiF",
      "include_colab_link": true
    },
    "kernelspec": {
      "name": "python3",
      "display_name": "Python 3"
    },
    "language_info": {
      "name": "python"
    }
  },
  "cells": [
    {
      "cell_type": "markdown",
      "metadata": {
        "id": "view-in-github",
        "colab_type": "text"
      },
      "source": [
        "<a href=\"https://colab.research.google.com/github/NahataiTep/DPDM65/blob/main/Data101_(Chapter2).ipynb\" target=\"_parent\"><img src=\"https://colab.research.google.com/assets/colab-badge.svg\" alt=\"Open In Colab\"/></a>"
      ]
    },
    {
      "cell_type": "markdown",
      "source": [
        "pandas คือ package ที่มีคนพัฒนาขึ้นมาเพื่อใช้จัดการข้อมูลที่มีลักษณะเป็นตาราง ซึ่งใน pandas เรียกว่า dataframe"
      ],
      "metadata": {
        "id": "csEDFQ8_HCkR"
      }
    },
    {
      "cell_type": "code",
      "execution_count": null,
      "metadata": {
        "id": "euDGRD2tFzyU"
      },
      "outputs": [],
      "source": [
        "import pandas # import pandas คือ โหลด package ที่ชื่อว่า pandas มาใช้"
      ]
    },
    {
      "cell_type": "code",
      "source": [
        "import pandas as pd # โหลด package ที่ชื่อว่า pandas มาใช้ แล้วตั้งชื่อว่า pd"
      ],
      "metadata": {
        "id": "obEHnUd1G69k"
      },
      "execution_count": null,
      "outputs": []
    },
    {
      "cell_type": "markdown",
      "source": [
        "import ใช้แบบไหนก็ได้ เลือกมาหนึ่งอัน (แต่ตอนนี้มักนิยมใช้อันล่าง เพื่อย่อคำสั่งให้สั้นๆ)\n",
        "\n",
        "การเรียกใช้คำสั่งใน package จะพิมพ์ชื่อเต็มหรือชื่อใหม่ ขึ้นอยู่กับว่าเขียน import แบบไหน"
      ],
      "metadata": {
        "id": "wS18SVcaL3ia"
      }
    },
    {
      "cell_type": "markdown",
      "source": [
        "ไฟล์ .CSV (comma separated values)"
      ],
      "metadata": {
        "id": "sO5URm2-IGDc"
      }
    },
    {
      "cell_type": "code",
      "source": [
        "data_df = pd.read_csv('data.csv')"
      ],
      "metadata": {
        "id": "EBDEuFcAIEvA"
      },
      "execution_count": null,
      "outputs": []
    },
    {
      "cell_type": "code",
      "source": [
        "data_df"
      ],
      "metadata": {
        "colab": {
          "base_uri": "https://localhost:8080/",
          "height": 112
        },
        "id": "y94VIe2hK6NB",
        "outputId": "44938ae2-2b88-4273-fbdb-8f5bebe02ddf"
      },
      "execution_count": null,
      "outputs": [
        {
          "output_type": "execute_result",
          "data": {
            "text/plain": [
              "   car_id        \\tmodel  \\tyear  \\tvalue  \\tperson_id\n",
              "0     101      \\tbentley    1973   100000            1\n",
              "1     102  \\trolls royce    1965   330000            1"
            ],
            "text/html": [
              "\n",
              "  <div id=\"df-71cccf2c-a764-40ae-bad2-93e4710ba182\">\n",
              "    <div class=\"colab-df-container\">\n",
              "      <div>\n",
              "<style scoped>\n",
              "    .dataframe tbody tr th:only-of-type {\n",
              "        vertical-align: middle;\n",
              "    }\n",
              "\n",
              "    .dataframe tbody tr th {\n",
              "        vertical-align: top;\n",
              "    }\n",
              "\n",
              "    .dataframe thead th {\n",
              "        text-align: right;\n",
              "    }\n",
              "</style>\n",
              "<table border=\"1\" class=\"dataframe\">\n",
              "  <thead>\n",
              "    <tr style=\"text-align: right;\">\n",
              "      <th></th>\n",
              "      <th>car_id</th>\n",
              "      <th>\\tmodel</th>\n",
              "      <th>\\tyear</th>\n",
              "      <th>\\tvalue</th>\n",
              "      <th>\\tperson_id</th>\n",
              "    </tr>\n",
              "  </thead>\n",
              "  <tbody>\n",
              "    <tr>\n",
              "      <th>0</th>\n",
              "      <td>101</td>\n",
              "      <td>\\tbentley</td>\n",
              "      <td>1973</td>\n",
              "      <td>100000</td>\n",
              "      <td>1</td>\n",
              "    </tr>\n",
              "    <tr>\n",
              "      <th>1</th>\n",
              "      <td>102</td>\n",
              "      <td>\\trolls royce</td>\n",
              "      <td>1965</td>\n",
              "      <td>330000</td>\n",
              "      <td>1</td>\n",
              "    </tr>\n",
              "  </tbody>\n",
              "</table>\n",
              "</div>\n",
              "      <button class=\"colab-df-convert\" onclick=\"convertToInteractive('df-71cccf2c-a764-40ae-bad2-93e4710ba182')\"\n",
              "              title=\"Convert this dataframe to an interactive table.\"\n",
              "              style=\"display:none;\">\n",
              "        \n",
              "  <svg xmlns=\"http://www.w3.org/2000/svg\" height=\"24px\"viewBox=\"0 0 24 24\"\n",
              "       width=\"24px\">\n",
              "    <path d=\"M0 0h24v24H0V0z\" fill=\"none\"/>\n",
              "    <path d=\"M18.56 5.44l.94 2.06.94-2.06 2.06-.94-2.06-.94-.94-2.06-.94 2.06-2.06.94zm-11 1L8.5 8.5l.94-2.06 2.06-.94-2.06-.94L8.5 2.5l-.94 2.06-2.06.94zm10 10l.94 2.06.94-2.06 2.06-.94-2.06-.94-.94-2.06-.94 2.06-2.06.94z\"/><path d=\"M17.41 7.96l-1.37-1.37c-.4-.4-.92-.59-1.43-.59-.52 0-1.04.2-1.43.59L10.3 9.45l-7.72 7.72c-.78.78-.78 2.05 0 2.83L4 21.41c.39.39.9.59 1.41.59.51 0 1.02-.2 1.41-.59l7.78-7.78 2.81-2.81c.8-.78.8-2.07 0-2.86zM5.41 20L4 18.59l7.72-7.72 1.47 1.35L5.41 20z\"/>\n",
              "  </svg>\n",
              "      </button>\n",
              "      \n",
              "  <style>\n",
              "    .colab-df-container {\n",
              "      display:flex;\n",
              "      flex-wrap:wrap;\n",
              "      gap: 12px;\n",
              "    }\n",
              "\n",
              "    .colab-df-convert {\n",
              "      background-color: #E8F0FE;\n",
              "      border: none;\n",
              "      border-radius: 50%;\n",
              "      cursor: pointer;\n",
              "      display: none;\n",
              "      fill: #1967D2;\n",
              "      height: 32px;\n",
              "      padding: 0 0 0 0;\n",
              "      width: 32px;\n",
              "    }\n",
              "\n",
              "    .colab-df-convert:hover {\n",
              "      background-color: #E2EBFA;\n",
              "      box-shadow: 0px 1px 2px rgba(60, 64, 67, 0.3), 0px 1px 3px 1px rgba(60, 64, 67, 0.15);\n",
              "      fill: #174EA6;\n",
              "    }\n",
              "\n",
              "    [theme=dark] .colab-df-convert {\n",
              "      background-color: #3B4455;\n",
              "      fill: #D2E3FC;\n",
              "    }\n",
              "\n",
              "    [theme=dark] .colab-df-convert:hover {\n",
              "      background-color: #434B5C;\n",
              "      box-shadow: 0px 1px 3px 1px rgba(0, 0, 0, 0.15);\n",
              "      filter: drop-shadow(0px 1px 2px rgba(0, 0, 0, 0.3));\n",
              "      fill: #FFFFFF;\n",
              "    }\n",
              "  </style>\n",
              "\n",
              "      <script>\n",
              "        const buttonEl =\n",
              "          document.querySelector('#df-71cccf2c-a764-40ae-bad2-93e4710ba182 button.colab-df-convert');\n",
              "        buttonEl.style.display =\n",
              "          google.colab.kernel.accessAllowed ? 'block' : 'none';\n",
              "\n",
              "        async function convertToInteractive(key) {\n",
              "          const element = document.querySelector('#df-71cccf2c-a764-40ae-bad2-93e4710ba182');\n",
              "          const dataTable =\n",
              "            await google.colab.kernel.invokeFunction('convertToInteractive',\n",
              "                                                     [key], {});\n",
              "          if (!dataTable) return;\n",
              "\n",
              "          const docLinkHtml = 'Like what you see? Visit the ' +\n",
              "            '<a target=\"_blank\" href=https://colab.research.google.com/notebooks/data_table.ipynb>data table notebook</a>'\n",
              "            + ' to learn more about interactive tables.';\n",
              "          element.innerHTML = '';\n",
              "          dataTable['output_type'] = 'display_data';\n",
              "          await google.colab.output.renderOutput(dataTable, element);\n",
              "          const docLink = document.createElement('div');\n",
              "          docLink.innerHTML = docLinkHtml;\n",
              "          element.appendChild(docLink);\n",
              "        }\n",
              "      </script>\n",
              "    </div>\n",
              "  </div>\n",
              "  "
            ]
          },
          "metadata": {},
          "execution_count": 4
        }
      ]
    },
    {
      "cell_type": "code",
      "source": [
        "data_df2 = pandas.read_csv('data.csv')\n",
        "data_df2"
      ],
      "metadata": {
        "colab": {
          "base_uri": "https://localhost:8080/",
          "height": 112
        },
        "id": "ayNXlxORLgS-",
        "outputId": "42106507-e56a-48ff-8c7f-38fceb65a27f"
      },
      "execution_count": null,
      "outputs": [
        {
          "output_type": "execute_result",
          "data": {
            "text/plain": [
              "   car_id        \\tmodel  \\tyear  \\tvalue  \\tperson_id\n",
              "0     101      \\tbentley    1973   100000            1\n",
              "1     102  \\trolls royce    1965   330000            1"
            ],
            "text/html": [
              "\n",
              "  <div id=\"df-168fdf9d-c21d-4bdc-a7af-b5608454b66b\">\n",
              "    <div class=\"colab-df-container\">\n",
              "      <div>\n",
              "<style scoped>\n",
              "    .dataframe tbody tr th:only-of-type {\n",
              "        vertical-align: middle;\n",
              "    }\n",
              "\n",
              "    .dataframe tbody tr th {\n",
              "        vertical-align: top;\n",
              "    }\n",
              "\n",
              "    .dataframe thead th {\n",
              "        text-align: right;\n",
              "    }\n",
              "</style>\n",
              "<table border=\"1\" class=\"dataframe\">\n",
              "  <thead>\n",
              "    <tr style=\"text-align: right;\">\n",
              "      <th></th>\n",
              "      <th>car_id</th>\n",
              "      <th>\\tmodel</th>\n",
              "      <th>\\tyear</th>\n",
              "      <th>\\tvalue</th>\n",
              "      <th>\\tperson_id</th>\n",
              "    </tr>\n",
              "  </thead>\n",
              "  <tbody>\n",
              "    <tr>\n",
              "      <th>0</th>\n",
              "      <td>101</td>\n",
              "      <td>\\tbentley</td>\n",
              "      <td>1973</td>\n",
              "      <td>100000</td>\n",
              "      <td>1</td>\n",
              "    </tr>\n",
              "    <tr>\n",
              "      <th>1</th>\n",
              "      <td>102</td>\n",
              "      <td>\\trolls royce</td>\n",
              "      <td>1965</td>\n",
              "      <td>330000</td>\n",
              "      <td>1</td>\n",
              "    </tr>\n",
              "  </tbody>\n",
              "</table>\n",
              "</div>\n",
              "      <button class=\"colab-df-convert\" onclick=\"convertToInteractive('df-168fdf9d-c21d-4bdc-a7af-b5608454b66b')\"\n",
              "              title=\"Convert this dataframe to an interactive table.\"\n",
              "              style=\"display:none;\">\n",
              "        \n",
              "  <svg xmlns=\"http://www.w3.org/2000/svg\" height=\"24px\"viewBox=\"0 0 24 24\"\n",
              "       width=\"24px\">\n",
              "    <path d=\"M0 0h24v24H0V0z\" fill=\"none\"/>\n",
              "    <path d=\"M18.56 5.44l.94 2.06.94-2.06 2.06-.94-2.06-.94-.94-2.06-.94 2.06-2.06.94zm-11 1L8.5 8.5l.94-2.06 2.06-.94-2.06-.94L8.5 2.5l-.94 2.06-2.06.94zm10 10l.94 2.06.94-2.06 2.06-.94-2.06-.94-.94-2.06-.94 2.06-2.06.94z\"/><path d=\"M17.41 7.96l-1.37-1.37c-.4-.4-.92-.59-1.43-.59-.52 0-1.04.2-1.43.59L10.3 9.45l-7.72 7.72c-.78.78-.78 2.05 0 2.83L4 21.41c.39.39.9.59 1.41.59.51 0 1.02-.2 1.41-.59l7.78-7.78 2.81-2.81c.8-.78.8-2.07 0-2.86zM5.41 20L4 18.59l7.72-7.72 1.47 1.35L5.41 20z\"/>\n",
              "  </svg>\n",
              "      </button>\n",
              "      \n",
              "  <style>\n",
              "    .colab-df-container {\n",
              "      display:flex;\n",
              "      flex-wrap:wrap;\n",
              "      gap: 12px;\n",
              "    }\n",
              "\n",
              "    .colab-df-convert {\n",
              "      background-color: #E8F0FE;\n",
              "      border: none;\n",
              "      border-radius: 50%;\n",
              "      cursor: pointer;\n",
              "      display: none;\n",
              "      fill: #1967D2;\n",
              "      height: 32px;\n",
              "      padding: 0 0 0 0;\n",
              "      width: 32px;\n",
              "    }\n",
              "\n",
              "    .colab-df-convert:hover {\n",
              "      background-color: #E2EBFA;\n",
              "      box-shadow: 0px 1px 2px rgba(60, 64, 67, 0.3), 0px 1px 3px 1px rgba(60, 64, 67, 0.15);\n",
              "      fill: #174EA6;\n",
              "    }\n",
              "\n",
              "    [theme=dark] .colab-df-convert {\n",
              "      background-color: #3B4455;\n",
              "      fill: #D2E3FC;\n",
              "    }\n",
              "\n",
              "    [theme=dark] .colab-df-convert:hover {\n",
              "      background-color: #434B5C;\n",
              "      box-shadow: 0px 1px 3px 1px rgba(0, 0, 0, 0.15);\n",
              "      filter: drop-shadow(0px 1px 2px rgba(0, 0, 0, 0.3));\n",
              "      fill: #FFFFFF;\n",
              "    }\n",
              "  </style>\n",
              "\n",
              "      <script>\n",
              "        const buttonEl =\n",
              "          document.querySelector('#df-168fdf9d-c21d-4bdc-a7af-b5608454b66b button.colab-df-convert');\n",
              "        buttonEl.style.display =\n",
              "          google.colab.kernel.accessAllowed ? 'block' : 'none';\n",
              "\n",
              "        async function convertToInteractive(key) {\n",
              "          const element = document.querySelector('#df-168fdf9d-c21d-4bdc-a7af-b5608454b66b');\n",
              "          const dataTable =\n",
              "            await google.colab.kernel.invokeFunction('convertToInteractive',\n",
              "                                                     [key], {});\n",
              "          if (!dataTable) return;\n",
              "\n",
              "          const docLinkHtml = 'Like what you see? Visit the ' +\n",
              "            '<a target=\"_blank\" href=https://colab.research.google.com/notebooks/data_table.ipynb>data table notebook</a>'\n",
              "            + ' to learn more about interactive tables.';\n",
              "          element.innerHTML = '';\n",
              "          dataTable['output_type'] = 'display_data';\n",
              "          await google.colab.output.renderOutput(dataTable, element);\n",
              "          const docLink = document.createElement('div');\n",
              "          docLink.innerHTML = docLinkHtml;\n",
              "          element.appendChild(docLink);\n",
              "        }\n",
              "      </script>\n",
              "    </div>\n",
              "  </div>\n",
              "  "
            ]
          },
          "metadata": {},
          "execution_count": 5
        }
      ]
    },
    {
      "cell_type": "markdown",
      "source": [
        "การเขียนคำสั่ง จะแยกหรือทำหลายบรรทัดใน box เดียวก็ได้\n",
        "\n",
        "ถ้าทำหลายบรรทัดใน box เดียว การรันก็จะไล่ทีละบรรทัดจากบนลงล่าง\n",
        "\n",
        "ถ้าทำคนละ box การรันขึ้นอยู่กับว่าจะกดรัน box ไหนก่อน โดยจะขึ้นเป็นลำดับตัวเลข"
      ],
      "metadata": {
        "id": "aQjFXTPFMZCW"
      }
    },
    {
      "cell_type": "markdown",
      "source": [
        "pd.read_csv('---.csv') : จาก package pandas ใช้คำสั่ง read.csv ในการเปิดไฟล์ที่ชื่อว่า ---.csv"
      ],
      "metadata": {
        "id": "DNNE-5F2Muha"
      }
    },
    {
      "cell_type": "markdown",
      "source": [
        "***"
      ],
      "metadata": {
        "id": "ohmIBu8FvOFh"
      }
    },
    {
      "cell_type": "markdown",
      "source": [
        "# Basic Python"
      ],
      "metadata": {
        "id": "u0VIKCTNvTkP"
      }
    },
    {
      "cell_type": "markdown",
      "source": [
        "## Variable"
      ],
      "metadata": {
        "id": "ovZx6pvivcJG"
      }
    },
    {
      "cell_type": "markdown",
      "source": [
        "ข้อกำหนดในการตั้งชื่อตัวแปร\n",
        "1. ชื่อห้ามมีเว้นวรรค\n",
        "2. (พยายาม)ใช้ภาษาอังกฤษ\n",
        "3. พิมพ์เล็กกับพิมพ์ใหญ่แตกต่างกัน\n",
        "4. ห้ามใช้ตัวเลขเป็นตัวหน้า"
      ],
      "metadata": {
        "id": "qF05TiuMvwre"
      }
    },
    {
      "cell_type": "code",
      "source": [
        "variable_a = 12                               #ตัวอย่างการตั้งตัวแปร โดยตัวแปรนั้นจะเป็นประเภทไหนก็ได้: int, float, str, etc.\n",
        "variable_b = 3.14\n",
        "variable_c = 'A'    # ' (quote) หรือ \" (double quote) เป็นการเก็บค่า string: ตัวอักษร\n",
        "variable_d = 'MSc Stat KKU'"
      ],
      "metadata": {
        "id": "A9zLvkUBvamk"
      },
      "execution_count": null,
      "outputs": []
    },
    {
      "cell_type": "code",
      "source": [
        "variable_e = '11'"
      ],
      "metadata": {
        "id": "VNngnqgx0lZ0"
      },
      "execution_count": null,
      "outputs": []
    },
    {
      "cell_type": "code",
      "source": [
        "variable a = 12  #ข้อกำหนดข้อ 1 : เว้นวรรคแล้วจะใช้ไม่ได้"
      ],
      "metadata": {
        "colab": {
          "base_uri": "https://localhost:8080/",
          "height": 132
        },
        "id": "1WY80KzuwNji",
        "outputId": "104a5170-bd30-47f0-8212-a93cb1dc5df7"
      },
      "execution_count": null,
      "outputs": [
        {
          "output_type": "error",
          "ename": "SyntaxError",
          "evalue": "ignored",
          "traceback": [
            "\u001b[0;36m  File \u001b[0;32m\"<ipython-input-8-4d185936998e>\"\u001b[0;36m, line \u001b[0;32m1\u001b[0m\n\u001b[0;31m    variable a = 12  #ข้อกำหนดข้อ 1 : เว้นวรรคแล้วจะใช้ไม่ได้\u001b[0m\n\u001b[0m             ^\u001b[0m\n\u001b[0;31mSyntaxError\u001b[0m\u001b[0;31m:\u001b[0m invalid syntax\n"
          ]
        }
      ]
    },
    {
      "cell_type": "code",
      "source": [
        "ตัวแปรเอ = 12  #ข้อกำหนดข้อ 2 : ใช้ภาษาไทยได้ แต่พยายามใช้อังกฤษดีกว่า"
      ],
      "metadata": {
        "id": "PuADOynRwTG7"
      },
      "execution_count": null,
      "outputs": []
    },
    {
      "cell_type": "code",
      "source": [
        "ตัวแปรเอ"
      ],
      "metadata": {
        "colab": {
          "base_uri": "https://localhost:8080/"
        },
        "id": "eK9hkBxcwVXn",
        "outputId": "d7cbe897-cf73-4c7c-bf41-df428d1cdc61"
      },
      "execution_count": null,
      "outputs": [
        {
          "output_type": "execute_result",
          "data": {
            "text/plain": [
              "12"
            ]
          },
          "metadata": {},
          "execution_count": 10
        }
      ]
    },
    {
      "cell_type": "code",
      "source": [
        "Cat = 1   #ข้อกำหนดข้อ 3 : แยกดีๆ พิมพ์เล็กพิมพ์ใหญ่\n",
        "cat = 2"
      ],
      "metadata": {
        "id": "JAez67V3wXgF"
      },
      "execution_count": null,
      "outputs": []
    },
    {
      "cell_type": "code",
      "source": [
        "Cat"
      ],
      "metadata": {
        "colab": {
          "base_uri": "https://localhost:8080/"
        },
        "id": "kHLtDkXawa0D",
        "outputId": "229b3687-4832-4d90-b8cb-29659b2406a0"
      },
      "execution_count": null,
      "outputs": [
        {
          "output_type": "execute_result",
          "data": {
            "text/plain": [
              "1"
            ]
          },
          "metadata": {},
          "execution_count": 12
        }
      ]
    },
    {
      "cell_type": "code",
      "source": [
        "cat1 = 2\n",
        "cat1"
      ],
      "metadata": {
        "colab": {
          "base_uri": "https://localhost:8080/"
        },
        "id": "OGsHoyUnwb9G",
        "outputId": "51691073-da9c-4a4f-df3e-eba789a8b95c"
      },
      "execution_count": null,
      "outputs": [
        {
          "output_type": "execute_result",
          "data": {
            "text/plain": [
              "2"
            ]
          },
          "metadata": {},
          "execution_count": 13
        }
      ]
    },
    {
      "cell_type": "code",
      "source": [
        "1cat = 2   #ข้อกำหนดข้อ 4 : ตัวเลขอยู่ข้างหน้าสุดไม่ได้"
      ],
      "metadata": {
        "colab": {
          "base_uri": "https://localhost:8080/",
          "height": 132
        },
        "id": "8zpFywn0wuAU",
        "outputId": "008d1f75-baec-470b-98bb-ef333d00f39a"
      },
      "execution_count": null,
      "outputs": [
        {
          "output_type": "error",
          "ename": "SyntaxError",
          "evalue": "ignored",
          "traceback": [
            "\u001b[0;36m  File \u001b[0;32m\"<ipython-input-14-b44bb37381c4>\"\u001b[0;36m, line \u001b[0;32m1\u001b[0m\n\u001b[0;31m    1cat = 2   #ข้อกำหนดข้อ 4 : ตัวเลขอยู่ข้างหน้าสุดไม่ได้\u001b[0m\n\u001b[0m       ^\u001b[0m\n\u001b[0;31mSyntaxError\u001b[0m\u001b[0;31m:\u001b[0m invalid syntax\n"
          ]
        }
      ]
    },
    {
      "cell_type": "markdown",
      "source": [
        "เมื่อเขียนตัวแปร เช่น variable_a = 12 หลังจากรันจะไม่มีการแสดงผล (ผลลัพธ์ถูกเก็บใน memory ของโปรแกรม)\n",
        "\n",
        "ถ้าอยากให้แสดง ต้องใช้คำสั่ง print(variable_a) [[ แต่ใน colab สามารถเขียนแค่ variable_a ได้ ]]"
      ],
      "metadata": {
        "id": "xkKh3e5lx1v4"
      }
    },
    {
      "cell_type": "code",
      "source": [
        "print(cat1)"
      ],
      "metadata": {
        "colab": {
          "base_uri": "https://localhost:8080/"
        },
        "id": "NLB38JpjwwPp",
        "outputId": "ebdc2bcd-52e0-4522-831a-819c2a41f53e"
      },
      "execution_count": null,
      "outputs": [
        {
          "output_type": "stream",
          "name": "stdout",
          "text": [
            "2\n"
          ]
        }
      ]
    },
    {
      "cell_type": "code",
      "source": [
        "variable_x = variable_a + variable_b"
      ],
      "metadata": {
        "id": "z0JaARn6ygb4"
      },
      "execution_count": null,
      "outputs": []
    },
    {
      "cell_type": "code",
      "source": [
        "variable_x"
      ],
      "metadata": {
        "colab": {
          "base_uri": "https://localhost:8080/"
        },
        "id": "TiP11N00y58k",
        "outputId": "8f19b03b-9c62-4a46-93b9-297d73e3c442"
      },
      "execution_count": null,
      "outputs": [
        {
          "output_type": "execute_result",
          "data": {
            "text/plain": [
              "15.14"
            ]
          },
          "metadata": {},
          "execution_count": 17
        }
      ]
    },
    {
      "cell_type": "code",
      "source": [
        "variable_a + variable_b       # อยากได้ผลบวกเฉยๆ เขียนแบบนี้ก็ได้ แต่จะนำไปใช้ต่อไม่ได้ เพราะไม่มีตัวแปรมาเก็บค่า"
      ],
      "metadata": {
        "colab": {
          "base_uri": "https://localhost:8080/"
        },
        "id": "4zqIHGhLzClL",
        "outputId": "4c8daa09-d7ef-47aa-c092-79c385c799a0"
      },
      "execution_count": null,
      "outputs": [
        {
          "output_type": "execute_result",
          "data": {
            "text/plain": [
              "15.14"
            ]
          },
          "metadata": {},
          "execution_count": 18
        }
      ]
    },
    {
      "cell_type": "code",
      "source": [
        "variable_x = variable_a + variable_b + 5\n",
        "print(variable_x)"
      ],
      "metadata": {
        "colab": {
          "base_uri": "https://localhost:8080/"
        },
        "id": "boO8XtlDzE0k",
        "outputId": "10470fab-7106-4f0d-a21e-8798f63a068e"
      },
      "execution_count": null,
      "outputs": [
        {
          "output_type": "stream",
          "name": "stdout",
          "text": [
            "20.14\n"
          ]
        }
      ]
    },
    {
      "cell_type": "code",
      "source": [
        "variable_z = variable_a\n",
        "print(variable_z)"
      ],
      "metadata": {
        "colab": {
          "base_uri": "https://localhost:8080/"
        },
        "id": "J1p-0sUFzaE6",
        "outputId": "211692ee-49f7-4e2f-c0ef-d316b24188e4"
      },
      "execution_count": null,
      "outputs": [
        {
          "output_type": "stream",
          "name": "stdout",
          "text": [
            "12\n"
          ]
        }
      ]
    },
    {
      "cell_type": "code",
      "source": [
        "variable_a = variable_a + 3\n",
        "\n",
        "print(variable_a)\n",
        "print(variable_z)"
      ],
      "metadata": {
        "colab": {
          "base_uri": "https://localhost:8080/"
        },
        "id": "ix8z9bhCzrQu",
        "outputId": "b9bcc5f7-9873-4754-d0c6-ac2d3048296d"
      },
      "execution_count": null,
      "outputs": [
        {
          "output_type": "stream",
          "name": "stdout",
          "text": [
            "15\n",
            "12\n"
          ]
        }
      ]
    },
    {
      "cell_type": "code",
      "source": [
        "variable_a + variable_e   # ไม่สามารถบวก ตัวเลข กับ ตัวอักษร ได้ !"
      ],
      "metadata": {
        "colab": {
          "base_uri": "https://localhost:8080/",
          "height": 166
        },
        "id": "yp6o5vgDzuEu",
        "outputId": "1b35ea16-edb8-4c2f-cefc-7e9852a0a47c"
      },
      "execution_count": null,
      "outputs": [
        {
          "output_type": "error",
          "ename": "TypeError",
          "evalue": "ignored",
          "traceback": [
            "\u001b[0;31m---------------------------------------------------------------------------\u001b[0m",
            "\u001b[0;31mTypeError\u001b[0m                                 Traceback (most recent call last)",
            "\u001b[0;32m<ipython-input-22-0c85403fe197>\u001b[0m in \u001b[0;36m<module>\u001b[0;34m()\u001b[0m\n\u001b[0;32m----> 1\u001b[0;31m \u001b[0mvariable_a\u001b[0m \u001b[0;34m+\u001b[0m \u001b[0mvariable_e\u001b[0m   \u001b[0;31m# ไม่สามารถบวก ตัวเลข กับ ตัวอักษร ได้ !\u001b[0m\u001b[0;34m\u001b[0m\u001b[0;34m\u001b[0m\u001b[0m\n\u001b[0m",
            "\u001b[0;31mTypeError\u001b[0m: unsupported operand type(s) for +: 'int' and 'str'"
          ]
        }
      ]
    },
    {
      "cell_type": "code",
      "source": [
        "variable_e + variable_a   # ไม่สามารถเอาตัวเลขมาต่อตัวอักษรได้"
      ],
      "metadata": {
        "colab": {
          "base_uri": "https://localhost:8080/",
          "height": 166
        },
        "id": "zWy1xLvP0y3a",
        "outputId": "6d4234a3-043e-4534-e1a3-ae2546a58a34"
      },
      "execution_count": null,
      "outputs": [
        {
          "output_type": "error",
          "ename": "TypeError",
          "evalue": "ignored",
          "traceback": [
            "\u001b[0;31m---------------------------------------------------------------------------\u001b[0m",
            "\u001b[0;31mTypeError\u001b[0m                                 Traceback (most recent call last)",
            "\u001b[0;32m<ipython-input-23-67fb8492d120>\u001b[0m in \u001b[0;36m<module>\u001b[0;34m()\u001b[0m\n\u001b[0;32m----> 1\u001b[0;31m \u001b[0mvariable_e\u001b[0m \u001b[0;34m+\u001b[0m \u001b[0mvariable_a\u001b[0m   \u001b[0;31m# ไม่สามารถเอาตัวเลขมาต่อตัวอักษรได้\u001b[0m\u001b[0;34m\u001b[0m\u001b[0;34m\u001b[0m\u001b[0m\n\u001b[0m",
            "\u001b[0;31mTypeError\u001b[0m: can only concatenate str (not \"int\") to str"
          ]
        }
      ]
    },
    {
      "cell_type": "markdown",
      "source": [
        "เวลาเช็ก error มักจะอ่านจากบรรทัดสุดท้าย (TypeError)"
      ],
      "metadata": {
        "id": "Y1kUfcNG1RM8"
      }
    },
    {
      "cell_type": "code",
      "source": [
        "variable_c + variable_d   # str ต่อกับ str ได้ โดยจะนำตัวอักษรมาต่อกัน (ไม่มีเว้นวรรค)"
      ],
      "metadata": {
        "colab": {
          "base_uri": "https://localhost:8080/",
          "height": 34
        },
        "id": "lMy7r4sf1NOW",
        "outputId": "29207fb5-a575-48d0-ef28-bc2102da32dc"
      },
      "execution_count": null,
      "outputs": [
        {
          "output_type": "execute_result",
          "data": {
            "text/plain": [
              "'AMSc Stat KKU'"
            ],
            "application/vnd.google.colaboratory.intrinsic+json": {
              "type": "string"
            }
          },
          "metadata": {},
          "execution_count": 58
        }
      ]
    },
    {
      "cell_type": "markdown",
      "source": [
        "** Casting int() float() str()\n",
        "\n",
        "คือ คำสั่งเปลี่ยนชนิดของตัวแปร"
      ],
      "metadata": {
        "id": "MbNff-TZ17bk"
      }
    },
    {
      "cell_type": "code",
      "source": [
        "variable_a + int(variable_e)"
      ],
      "metadata": {
        "colab": {
          "base_uri": "https://localhost:8080/"
        },
        "id": "httA8qZz12zD",
        "outputId": "7eb65ea2-da0a-4cd4-91e3-233f3dfb670f"
      },
      "execution_count": null,
      "outputs": [
        {
          "output_type": "execute_result",
          "data": {
            "text/plain": [
              "26"
            ]
          },
          "metadata": {},
          "execution_count": 59
        }
      ]
    },
    {
      "cell_type": "code",
      "source": [
        "variable_e + str(variable_a)"
      ],
      "metadata": {
        "colab": {
          "base_uri": "https://localhost:8080/",
          "height": 34
        },
        "id": "QVRZ4j4w3Dk9",
        "outputId": "1fcc03e9-d06c-4ca6-d34d-013dc59067ae"
      },
      "execution_count": null,
      "outputs": [
        {
          "output_type": "execute_result",
          "data": {
            "text/plain": [
              "'1115'"
            ],
            "application/vnd.google.colaboratory.intrinsic+json": {
              "type": "string"
            }
          },
          "metadata": {},
          "execution_count": 60
        }
      ]
    },
    {
      "cell_type": "code",
      "source": [
        "variable_e                  # แสดงให้เห็นว่าสิ่งที่เก็บใน memory มีหน้าตาเป็นยังไง"
      ],
      "metadata": {
        "colab": {
          "base_uri": "https://localhost:8080/",
          "height": 34
        },
        "id": "cDZgEvUV3HD8",
        "outputId": "120537bc-db89-4f90-cd9c-73f080512ab4"
      },
      "execution_count": null,
      "outputs": [
        {
          "output_type": "execute_result",
          "data": {
            "text/plain": [
              "'11'"
            ],
            "application/vnd.google.colaboratory.intrinsic+json": {
              "type": "string"
            }
          },
          "metadata": {},
          "execution_count": 61
        }
      ]
    },
    {
      "cell_type": "code",
      "source": [
        "print(variable_e)         # แสดงค่าออกมาให้ดู -> ไม่รู้ว่าตัวแปรเป็นประเภทอะไร"
      ],
      "metadata": {
        "colab": {
          "base_uri": "https://localhost:8080/"
        },
        "id": "Ic5Z_q3j3g07",
        "outputId": "c354f06e-31cb-459a-ced3-f7df818d4114"
      },
      "execution_count": null,
      "outputs": [
        {
          "output_type": "stream",
          "name": "stdout",
          "text": [
            "11\n"
          ]
        }
      ]
    },
    {
      "cell_type": "markdown",
      "source": [
        "** type()\n",
        "\n",
        "คือ คำสั่งตรวจสอบชนิดของตัวแปร"
      ],
      "metadata": {
        "id": "ZJnNzWoP4YN_"
      }
    },
    {
      "cell_type": "code",
      "source": [
        "type(variable_a)"
      ],
      "metadata": {
        "colab": {
          "base_uri": "https://localhost:8080/"
        },
        "id": "nJNEB2nN4iLm",
        "outputId": "d2e5052f-fe23-4aca-877a-1f90953cad6b"
      },
      "execution_count": null,
      "outputs": [
        {
          "output_type": "execute_result",
          "data": {
            "text/plain": [
              "int"
            ]
          },
          "metadata": {},
          "execution_count": 63
        }
      ]
    },
    {
      "cell_type": "code",
      "source": [
        "type(variable_e)"
      ],
      "metadata": {
        "colab": {
          "base_uri": "https://localhost:8080/"
        },
        "id": "eg6wdL_r3jRA",
        "outputId": "bd7bf8c3-a5b6-40e1-c905-bf30ce9afce6"
      },
      "execution_count": null,
      "outputs": [
        {
          "output_type": "execute_result",
          "data": {
            "text/plain": [
              "str"
            ]
          },
          "metadata": {},
          "execution_count": 64
        }
      ]
    },
    {
      "cell_type": "markdown",
      "source": [
        "## Data Structure"
      ],
      "metadata": {
        "id": "nfVWALDb4pJJ"
      }
    },
    {
      "cell_type": "markdown",
      "source": [
        "### List \n",
        ": การเอาตัวแปรมาผูกต่อกันไปเรื่อยๆ\n",
        "\n",
        ": สนใจลำดับ\n",
        "\n",
        ": สร้างโดยการใส่ square brackets [ ]"
      ],
      "metadata": {
        "id": "I__A3zp94uTF"
      }
    },
    {
      "cell_type": "code",
      "source": [
        "list_a = [1, 2, 3, 0.9, 'aaz', variable_b] "
      ],
      "metadata": {
        "id": "02EIU4Bw4UJF"
      },
      "execution_count": null,
      "outputs": []
    },
    {
      "cell_type": "code",
      "source": [
        "list_a"
      ],
      "metadata": {
        "colab": {
          "base_uri": "https://localhost:8080/"
        },
        "id": "aTPtuCcn5EDM",
        "outputId": "ad7ed750-1d9b-4176-af2d-2b752163bdd3"
      },
      "execution_count": null,
      "outputs": [
        {
          "output_type": "execute_result",
          "data": {
            "text/plain": [
              "[1, 2, 3, 0.9, 'aaz', 3.14]"
            ]
          },
          "metadata": {},
          "execution_count": 66
        }
      ]
    },
    {
      "cell_type": "markdown",
      "source": [
        "indexing: การชี้ตัวที่อยู่ใน list สามารถเขียนได้ทั้งนับจากด้านหน้าและด้านหลัง \n",
        "1. index: นับจากด้านหน้า ตัวแรกจะเป็นลำดับที่ 0 > 1 > ...\n",
        "2. negative index: นับจากด้านหลัง ตัวสุดท้ายจะเป็นลำดับที่ -1 < -2 < ..."
      ],
      "metadata": {
        "id": "EjvOR3E45aVA"
      }
    },
    {
      "cell_type": "code",
      "source": [
        "list_a[5]"
      ],
      "metadata": {
        "colab": {
          "base_uri": "https://localhost:8080/"
        },
        "id": "Ev2EDGmi5U9-",
        "outputId": "08101dd0-340f-4bd1-9314-374799893eec"
      },
      "execution_count": null,
      "outputs": [
        {
          "output_type": "execute_result",
          "data": {
            "text/plain": [
              "3.14"
            ]
          },
          "metadata": {},
          "execution_count": 67
        }
      ]
    },
    {
      "cell_type": "code",
      "source": [
        "list_a[0]"
      ],
      "metadata": {
        "colab": {
          "base_uri": "https://localhost:8080/"
        },
        "id": "-_fMw0y15jLP",
        "outputId": "3aeff6bc-eab5-4b71-cb53-5fb89aaf004d"
      },
      "execution_count": null,
      "outputs": [
        {
          "output_type": "execute_result",
          "data": {
            "text/plain": [
              "1"
            ]
          },
          "metadata": {},
          "execution_count": 68
        }
      ]
    },
    {
      "cell_type": "code",
      "source": [
        "list_a[-2]"
      ],
      "metadata": {
        "colab": {
          "base_uri": "https://localhost:8080/",
          "height": 34
        },
        "id": "kUvHZJJ55nYD",
        "outputId": "b7d8d0fa-872d-413f-dcc5-625661f7be2c"
      },
      "execution_count": null,
      "outputs": [
        {
          "output_type": "execute_result",
          "data": {
            "text/plain": [
              "'aaz'"
            ],
            "application/vnd.google.colaboratory.intrinsic+json": {
              "type": "string"
            }
          },
          "metadata": {},
          "execution_count": 69
        }
      ]
    },
    {
      "cell_type": "code",
      "source": [
        "list_b = ['pizza', list_a]      # list จะเก็บค่าอะไรก็ได้\n",
        "list_b"
      ],
      "metadata": {
        "colab": {
          "base_uri": "https://localhost:8080/"
        },
        "id": "X1MkvJZc5p6n",
        "outputId": "84844a7e-3a81-4466-f28e-43b0256a029f"
      },
      "execution_count": null,
      "outputs": [
        {
          "output_type": "execute_result",
          "data": {
            "text/plain": [
              "['pizza', [1, 2, 3, 0.9, 'aaz', 3.14]]"
            ]
          },
          "metadata": {},
          "execution_count": 70
        }
      ]
    },
    {
      "cell_type": "code",
      "source": [
        "list_b[1][3]                      # การชี้ index ของ list ซ้อน list ให้ใส่ [] ซ้อนไปเรื่อยๆ"
      ],
      "metadata": {
        "colab": {
          "base_uri": "https://localhost:8080/"
        },
        "id": "vQLoi9Bh6ZsR",
        "outputId": "932dd714-0fa7-4f1d-d04a-16170ff909ff"
      },
      "execution_count": null,
      "outputs": [
        {
          "output_type": "execute_result",
          "data": {
            "text/plain": [
              "0.9"
            ]
          },
          "metadata": {},
          "execution_count": 71
        }
      ]
    },
    {
      "cell_type": "markdown",
      "source": [
        "string คือ list ของตัวอักษร"
      ],
      "metadata": {
        "id": "DkzCIo0c6zbV"
      }
    },
    {
      "cell_type": "code",
      "source": [
        "x = 'shabu'\n",
        "x[3]"
      ],
      "metadata": {
        "colab": {
          "base_uri": "https://localhost:8080/",
          "height": 34
        },
        "id": "PX1Lo2Rc6eC7",
        "outputId": "fe5f6b0b-9e46-4640-9a60-06f5c4f20801"
      },
      "execution_count": null,
      "outputs": [
        {
          "output_type": "execute_result",
          "data": {
            "text/plain": [
              "'b'"
            ],
            "application/vnd.google.colaboratory.intrinsic+json": {
              "type": "string"
            }
          },
          "metadata": {},
          "execution_count": 72
        }
      ]
    },
    {
      "cell_type": "code",
      "source": [
        "print(list_a)\n",
        "print(list_b)"
      ],
      "metadata": {
        "colab": {
          "base_uri": "https://localhost:8080/"
        },
        "id": "Sfxf3fdt65K7",
        "outputId": "2d05e60a-a177-4002-f0e2-c3dc7b75dd0b"
      },
      "execution_count": null,
      "outputs": [
        {
          "output_type": "stream",
          "name": "stdout",
          "text": [
            "[1, 2, 3, 0.9, 'aaz', 3.14]\n",
            "['pizza', [1, 2, 3, 0.9, 'aaz', 3.14]]\n"
          ]
        }
      ]
    },
    {
      "cell_type": "code",
      "source": [
        "list_a + list_b"
      ],
      "metadata": {
        "colab": {
          "base_uri": "https://localhost:8080/"
        },
        "id": "vl0byE_k7Jvb",
        "outputId": "17be886f-1bc2-4bef-e88d-3526e118b5bf"
      },
      "execution_count": null,
      "outputs": [
        {
          "output_type": "execute_result",
          "data": {
            "text/plain": [
              "[1, 2, 3, 0.9, 'aaz', 3.14, 'pizza', [1, 2, 3, 0.9, 'aaz', 3.14]]"
            ]
          },
          "metadata": {},
          "execution_count": 74
        }
      ]
    },
    {
      "cell_type": "markdown",
      "source": [
        "การสร้าง list ( ในกรณีที่ list ยาว การสร้างจะซับซ้อนกว่าใส่แค่ [ ] )\n",
        "1. สร้าง list ว่าง : กำหนดตัวแปร = [ ]  /  กำหนดตัวแปร = list( )\n",
        "2. เพิ่มสมาชิกลงไปใน list"
      ],
      "metadata": {
        "id": "wuYHYFrb7YiH"
      }
    },
    {
      "cell_type": "markdown",
      "source": [
        "1 การสร้าง list ว่าง"
      ],
      "metadata": {
        "id": "QNSfHsQE8MSA"
      }
    },
    {
      "cell_type": "code",
      "source": [
        "list_aa = []\n",
        "list_aa"
      ],
      "metadata": {
        "colab": {
          "base_uri": "https://localhost:8080/"
        },
        "id": "YrXWxbgb7Lst",
        "outputId": "1eb9b226-f875-49de-96de-b24c134a28e6"
      },
      "execution_count": null,
      "outputs": [
        {
          "output_type": "execute_result",
          "data": {
            "text/plain": [
              "[]"
            ]
          },
          "metadata": {},
          "execution_count": 75
        }
      ]
    },
    {
      "cell_type": "code",
      "source": [
        "list_bb = list()\n",
        "print(list_bb)"
      ],
      "metadata": {
        "colab": {
          "base_uri": "https://localhost:8080/"
        },
        "id": "NIHXmSP574kx",
        "outputId": "bc897d56-9730-4397-9e91-e550f28774bd"
      },
      "execution_count": null,
      "outputs": [
        {
          "output_type": "stream",
          "name": "stdout",
          "text": [
            "[]\n"
          ]
        }
      ]
    },
    {
      "cell_type": "markdown",
      "source": [
        "2 การเพิ่มสมาชิกลงไปใน list ( .append( ) )"
      ],
      "metadata": {
        "id": "H7PGFMOn8ON9"
      }
    },
    {
      "cell_type": "code",
      "source": [
        "list_aa.append('chiken')\n",
        "list_aa.append('water')\n",
        "list_aa.append('vegetable')"
      ],
      "metadata": {
        "id": "ICytsVnz78OK"
      },
      "execution_count": null,
      "outputs": []
    },
    {
      "cell_type": "code",
      "source": [
        "list_aa"
      ],
      "metadata": {
        "colab": {
          "base_uri": "https://localhost:8080/"
        },
        "id": "3dis97jX8hMk",
        "outputId": "e495f942-9168-403a-bbbb-e2ecb3c3e203"
      },
      "execution_count": null,
      "outputs": [
        {
          "output_type": "execute_result",
          "data": {
            "text/plain": [
              "['chiken', 'water', 'vegetable']"
            ]
          },
          "metadata": {},
          "execution_count": 78
        }
      ]
    },
    {
      "cell_type": "code",
      "source": [
        "list_aa[-1]"
      ],
      "metadata": {
        "colab": {
          "base_uri": "https://localhost:8080/",
          "height": 34
        },
        "id": "wzwIMFv_8iac",
        "outputId": "9a70373e-ce57-4b6a-9bf1-b71ccdb8360c"
      },
      "execution_count": null,
      "outputs": [
        {
          "output_type": "execute_result",
          "data": {
            "text/plain": [
              "'vegetable'"
            ],
            "application/vnd.google.colaboratory.intrinsic+json": {
              "type": "string"
            }
          },
          "metadata": {},
          "execution_count": 79
        }
      ]
    },
    {
      "cell_type": "code",
      "source": [
        "list_aa.append('plate')"
      ],
      "metadata": {
        "id": "nWj4oB8V8sE5"
      },
      "execution_count": null,
      "outputs": []
    },
    {
      "cell_type": "code",
      "source": [
        "list_aa[-2]"
      ],
      "metadata": {
        "colab": {
          "base_uri": "https://localhost:8080/",
          "height": 34
        },
        "id": "PZKOaA1P89P0",
        "outputId": "58834f6d-1ecb-4d79-ecba-1e812fa2d0e8"
      },
      "execution_count": null,
      "outputs": [
        {
          "output_type": "execute_result",
          "data": {
            "text/plain": [
              "'vegetable'"
            ],
            "application/vnd.google.colaboratory.intrinsic+json": {
              "type": "string"
            }
          },
          "metadata": {},
          "execution_count": 81
        }
      ]
    },
    {
      "cell_type": "markdown",
      "source": [
        "### List slicing\n",
        "\n",
        ": (colon)\n",
        "\n",
        "ตัด list มาเฉพาะส่วนที่ต้องการ โดยเอาตั้งแต่ [ตัวหน้า:ตัวก่อนตัวหลัง]\n",
        "\n",
        "ถ้าเขียนตามสัญลักษณ์คณิตศาสตร์ จะได้เป็น [ตัวหน้า:ตัวหลัง)"
      ],
      "metadata": {
        "id": "hSS1o4yI9EmT"
      }
    },
    {
      "cell_type": "code",
      "source": [
        "list_aa"
      ],
      "metadata": {
        "colab": {
          "base_uri": "https://localhost:8080/"
        },
        "id": "vSX6ERI_9BGk",
        "outputId": "13dfa021-bc73-4dc6-fd91-d1bf4a74ebe2"
      },
      "execution_count": null,
      "outputs": [
        {
          "output_type": "execute_result",
          "data": {
            "text/plain": [
              "['chiken', 'water', 'vegetable', 'plate']"
            ]
          },
          "metadata": {},
          "execution_count": 82
        }
      ]
    },
    {
      "cell_type": "code",
      "source": [
        "list_aa[1:3]        # ตัด list_aa จากตัวที่ 1 ถึงตัวก่อนตัวที่ 3 (= ตัวที่ 2)"
      ],
      "metadata": {
        "colab": {
          "base_uri": "https://localhost:8080/"
        },
        "id": "dCN5cMt09TEX",
        "outputId": "77cb4300-d5e7-48ce-d454-ab813602710c"
      },
      "execution_count": null,
      "outputs": [
        {
          "output_type": "execute_result",
          "data": {
            "text/plain": [
              "['water', 'vegetable']"
            ]
          },
          "metadata": {},
          "execution_count": 83
        }
      ]
    },
    {
      "cell_type": "markdown",
      "source": [
        "***"
      ],
      "metadata": {
        "id": "O44_HYjxBiPS"
      }
    },
    {
      "cell_type": "markdown",
      "source": [
        "\n",
        "Quiz 1\n",
        "\n",
        " ตัดส่วนของ list ต่อไปนี้ จาก list_aa\n",
        " 1. 'iken'\n",
        " 2. 'get'\n",
        " 3. 'tab'"
      ],
      "metadata": {
        "id": "kif_-dXQ-Rsv"
      }
    },
    {
      "cell_type": "code",
      "source": [
        "# ข้อ 1\n",
        "list_aa[0][2:6]"
      ],
      "metadata": {
        "colab": {
          "base_uri": "https://localhost:8080/",
          "height": 34
        },
        "id": "vrgfTU-39bXM",
        "outputId": "9b195809-256f-462e-a026-852fe4db951f"
      },
      "execution_count": null,
      "outputs": [
        {
          "output_type": "execute_result",
          "data": {
            "text/plain": [
              "'iken'"
            ],
            "application/vnd.google.colaboratory.intrinsic+json": {
              "type": "string"
            }
          },
          "metadata": {},
          "execution_count": 84
        }
      ]
    },
    {
      "cell_type": "code",
      "source": [
        "# ข้อ 2\n",
        "list_aa[2][2:5]"
      ],
      "metadata": {
        "colab": {
          "base_uri": "https://localhost:8080/",
          "height": 34
        },
        "id": "yU6mo6yj_lAK",
        "outputId": "73a5b764-2dd9-48bf-daac-e1919da2d70d"
      },
      "execution_count": null,
      "outputs": [
        {
          "output_type": "execute_result",
          "data": {
            "text/plain": [
              "'get'"
            ],
            "application/vnd.google.colaboratory.intrinsic+json": {
              "type": "string"
            }
          },
          "metadata": {},
          "execution_count": 85
        }
      ]
    },
    {
      "cell_type": "code",
      "source": [
        "# ข้อ 3\n",
        "list_aa[2][4:7]"
      ],
      "metadata": {
        "colab": {
          "base_uri": "https://localhost:8080/",
          "height": 34
        },
        "id": "iCSGWwS0_sGH",
        "outputId": "1c63c833-9237-4eaa-d97e-4e25689d4748"
      },
      "execution_count": null,
      "outputs": [
        {
          "output_type": "execute_result",
          "data": {
            "text/plain": [
              "'tab'"
            ],
            "application/vnd.google.colaboratory.intrinsic+json": {
              "type": "string"
            }
          },
          "metadata": {},
          "execution_count": 86
        }
      ]
    },
    {
      "cell_type": "markdown",
      "source": [
        "***"
      ],
      "metadata": {
        "id": "4OP1_h5yAGz7"
      }
    },
    {
      "cell_type": "markdown",
      "source": [
        "ถ้าเขียนลำดับ \n",
        "\n",
        "[:]  -> แปลว่า เอาทุกตัว\n",
        "\n",
        "[:xx]  -> แปลว่า เลือกตั้งแต่ตัวแรก ถึงตัวก่อน xx\n",
        "\n",
        "[xx:]  -> แปลว่า เลือกตั้งแต่ตัวที่ xx ถึงตัวสุดท้าย"
      ],
      "metadata": {
        "id": "2uMwSkzeBsS4"
      }
    },
    {
      "cell_type": "code",
      "source": [
        "list_aa[-1][:]"
      ],
      "metadata": {
        "colab": {
          "base_uri": "https://localhost:8080/",
          "height": 34
        },
        "id": "zDy66bbyB6Xh",
        "outputId": "6940a086-06e0-4b50-befb-189fbcf98031"
      },
      "execution_count": null,
      "outputs": [
        {
          "output_type": "execute_result",
          "data": {
            "text/plain": [
              "'plate'"
            ],
            "application/vnd.google.colaboratory.intrinsic+json": {
              "type": "string"
            }
          },
          "metadata": {},
          "execution_count": 87
        }
      ]
    },
    {
      "cell_type": "code",
      "source": [
        "list_aa[-1][:3]"
      ],
      "metadata": {
        "colab": {
          "base_uri": "https://localhost:8080/",
          "height": 34
        },
        "id": "FLZef7aGCD2i",
        "outputId": "42291160-ba57-4eca-854f-1819a1db3323"
      },
      "execution_count": null,
      "outputs": [
        {
          "output_type": "execute_result",
          "data": {
            "text/plain": [
              "'pla'"
            ],
            "application/vnd.google.colaboratory.intrinsic+json": {
              "type": "string"
            }
          },
          "metadata": {},
          "execution_count": 88
        }
      ]
    },
    {
      "cell_type": "code",
      "source": [
        "list_aa[-1][3:]"
      ],
      "metadata": {
        "colab": {
          "base_uri": "https://localhost:8080/",
          "height": 34
        },
        "id": "N6D9QCZhCICB",
        "outputId": "c06dd0b3-c50b-4140-96a0-cadc38f65f14"
      },
      "execution_count": null,
      "outputs": [
        {
          "output_type": "execute_result",
          "data": {
            "text/plain": [
              "'te'"
            ],
            "application/vnd.google.colaboratory.intrinsic+json": {
              "type": "string"
            }
          },
          "metadata": {},
          "execution_count": 89
        }
      ]
    },
    {
      "cell_type": "markdown",
      "source": [
        "***\n",
        "***"
      ],
      "metadata": {
        "id": "ko4XEBEuLRoR"
      }
    },
    {
      "cell_type": "markdown",
      "source": [
        "### Advance list slicing\n",
        "\n",
        ":: (ใช้ colon 2 ตัว ในการกำหนดว่าจะตัด list ตรงไหน)\n",
        "\n",
        "จะตัด list โดยเอาตั้งแต่ [ตัวหน้า:ตัวก่อนตัวหลัง:step]"
      ],
      "metadata": {
        "id": "SybCMnmBLiD3"
      }
    },
    {
      "cell_type": "code",
      "source": [
        "list_aa"
      ],
      "metadata": {
        "colab": {
          "base_uri": "https://localhost:8080/"
        },
        "id": "0IJnye4lLTk4",
        "outputId": "707fde98-5c80-4e98-9fa2-ab8b2ebf7399"
      },
      "execution_count": null,
      "outputs": [
        {
          "output_type": "execute_result",
          "data": {
            "text/plain": [
              "['chiken', 'water', 'vegetable', 'plate']"
            ]
          },
          "metadata": {},
          "execution_count": 90
        }
      ]
    },
    {
      "cell_type": "code",
      "source": [
        "list_aa[2][::]"
      ],
      "metadata": {
        "colab": {
          "base_uri": "https://localhost:8080/",
          "height": 34
        },
        "id": "zB1P6HodL5cu",
        "outputId": "cd493526-ef5a-454a-8701-bc7f7dfffd73"
      },
      "execution_count": null,
      "outputs": [
        {
          "output_type": "execute_result",
          "data": {
            "text/plain": [
              "'vegetable'"
            ],
            "application/vnd.google.colaboratory.intrinsic+json": {
              "type": "string"
            }
          },
          "metadata": {},
          "execution_count": 91
        }
      ]
    },
    {
      "cell_type": "code",
      "source": [
        "list_aa[2][::2]   #เริ่มจากด้านหน้า ข้ามไปทีละ 2 ตัว"
      ],
      "metadata": {
        "colab": {
          "base_uri": "https://localhost:8080/",
          "height": 34
        },
        "id": "FADv_fqUL72m",
        "outputId": "6352a274-d557-4fce-9077-1b4a92849b5d"
      },
      "execution_count": null,
      "outputs": [
        {
          "output_type": "execute_result",
          "data": {
            "text/plain": [
              "'vgtbe'"
            ],
            "application/vnd.google.colaboratory.intrinsic+json": {
              "type": "string"
            }
          },
          "metadata": {},
          "execution_count": 92
        }
      ]
    },
    {
      "cell_type": "code",
      "source": [
        "list_aa[2][::-1]    #เริ่มจากด้านหลัง"
      ],
      "metadata": {
        "colab": {
          "base_uri": "https://localhost:8080/",
          "height": 34
        },
        "id": "yYSEMrwQMSLU",
        "outputId": "74a737d7-f35c-4323-f5d0-88c3334220a7"
      },
      "execution_count": null,
      "outputs": [
        {
          "output_type": "execute_result",
          "data": {
            "text/plain": [
              "'elbategev'"
            ],
            "application/vnd.google.colaboratory.intrinsic+json": {
              "type": "string"
            }
          },
          "metadata": {},
          "execution_count": 93
        }
      ]
    },
    {
      "cell_type": "code",
      "source": [
        "list_aa[2][::-3]    #เริ่มจากด้านหลัง ข้ามไปที่ละ 3 ตัว"
      ],
      "metadata": {
        "colab": {
          "base_uri": "https://localhost:8080/",
          "height": 34
        },
        "id": "sECZx7_-MZ09",
        "outputId": "37b305ad-04e0-4c41-b941-2d16bf520436"
      },
      "execution_count": null,
      "outputs": [
        {
          "output_type": "execute_result",
          "data": {
            "text/plain": [
              "'eag'"
            ],
            "application/vnd.google.colaboratory.intrinsic+json": {
              "type": "string"
            }
          },
          "metadata": {},
          "execution_count": 94
        }
      ]
    },
    {
      "cell_type": "markdown",
      "source": [
        "format string\n",
        "`f'string{variable}'`\n",
        "\n",
        "คือ การที่จัดการ string โดยใช้ตัวแปรที่มีค่าอยู่แล้วมาแทรกใน string\n",
        "\n",
        "{} = curly brackets"
      ],
      "metadata": {
        "id": "V5SG7TV4MsgG"
      }
    },
    {
      "cell_type": "code",
      "source": [
        "f' I like to eat {list_aa[2]} '"
      ],
      "metadata": {
        "colab": {
          "base_uri": "https://localhost:8080/",
          "height": 34
        },
        "id": "O8Np6U3tMmV8",
        "outputId": "5d01ab38-52f6-434d-be36-475f5ed99b2b"
      },
      "execution_count": null,
      "outputs": [
        {
          "output_type": "execute_result",
          "data": {
            "text/plain": [
              "' I like to eat vegetable '"
            ],
            "application/vnd.google.colaboratory.intrinsic+json": {
              "type": "string"
            }
          },
          "metadata": {},
          "execution_count": 97
        }
      ]
    },
    {
      "cell_type": "code",
      "source": [
        "f' 9 x 10 = {9*10} '"
      ],
      "metadata": {
        "colab": {
          "base_uri": "https://localhost:8080/",
          "height": 34
        },
        "id": "XZxpRfJ5N3qh",
        "outputId": "d672b47e-159a-4a25-8964-53aa0ba1957b"
      },
      "execution_count": null,
      "outputs": [
        {
          "output_type": "execute_result",
          "data": {
            "text/plain": [
              "' 9 x 10 = 90 '"
            ],
            "application/vnd.google.colaboratory.intrinsic+json": {
              "type": "string"
            }
          },
          "metadata": {},
          "execution_count": 98
        }
      ]
    },
    {
      "cell_type": "markdown",
      "source": [
        "## Loop (for)\n",
        "\n",
        "การทำงานที่ซ้ำๆ กัน หรือ ทำงานที่คล้ายกันหลายๆ รอบ\n",
        "\n",
        "\n",
        "```\n",
        "for ตัวแปรที่เราจะรับค่าจากลิสต์ in ลิสต์ที่ต้องการจะวนลูป :\n",
        "    do something\n",
        "    do another thing\n",
        "    สิ่งที่อยู่ในลูป จะมีการ indent เข้ามาเสมอ\n",
        "\n",
        "this is outside the loop\n",
        "```\n",
        "\n"
      ],
      "metadata": {
        "id": "dBAllLTbOjYb"
      }
    },
    {
      "cell_type": "markdown",
      "source": [
        "### ทำงานซ้ำๆ กัน\n",
        "\n",
        "ใน loop ทำซ้ำทั้งหมด i รอบ แต่ไม่มีการใช้ i ด้านใน"
      ],
      "metadata": {
        "id": "06id4ACHRND6"
      }
    },
    {
      "cell_type": "code",
      "source": [
        "for i in list_aa:\n",
        "    print('Ha')"
      ],
      "metadata": {
        "colab": {
          "base_uri": "https://localhost:8080/"
        },
        "id": "4CZB0XRBQOtr",
        "outputId": "dbe5ee12-84e4-4a3b-e583-9abb78457994"
      },
      "execution_count": null,
      "outputs": [
        {
          "output_type": "stream",
          "name": "stdout",
          "text": [
            "Ha\n",
            "Ha\n",
            "Ha\n",
            "Ha\n"
          ]
        }
      ]
    },
    {
      "cell_type": "markdown",
      "source": [
        "### ทำงานคล้ายๆ กัน\n",
        "\n",
        "แต่ละรอบขึ้นอยู่กับ i (มีการเปลี่ยนแปลงไปตาม i)"
      ],
      "metadata": {
        "id": "bAyGBnRpRIUW"
      }
    },
    {
      "cell_type": "code",
      "source": [
        "for i in list_aa:\n",
        "    print(f' now i is {i} ')\n",
        "    print(f' I like to eat {i} ')"
      ],
      "metadata": {
        "colab": {
          "base_uri": "https://localhost:8080/"
        },
        "id": "HZJUKhO5OJf1",
        "outputId": "c7d8a666-4a8b-4eac-f20f-3fc5f508dabb"
      },
      "execution_count": null,
      "outputs": [
        {
          "output_type": "stream",
          "name": "stdout",
          "text": [
            " now i is chiken \n",
            " I like to eat chiken \n",
            " now i is water \n",
            " I like to eat water \n",
            " now i is vegetable \n",
            " I like to eat vegetable \n",
            " now i is plate \n",
            " I like to eat plate \n"
          ]
        }
      ]
    },
    {
      "cell_type": "markdown",
      "source": [
        "!! ลิสต์ไม่จำเป็นต้องมีอยู่แล้ว จะสร้างขึ้นมาใหม่เพื่อใช้ใน loop โดยเฉพาะเลยก็ได้ !!"
      ],
      "metadata": {
        "id": "9xDB_dQxSAa6"
      }
    },
    {
      "cell_type": "code",
      "source": [
        "for x in [1,3,5,7,9] :\n",
        "    print(f' this x = {x}, x/2 = {x/2} ')"
      ],
      "metadata": {
        "colab": {
          "base_uri": "https://localhost:8080/"
        },
        "id": "ZVmvJA4WRYgI",
        "outputId": "ec4d14de-ea6f-42fc-97b3-d293d0ef6e28"
      },
      "execution_count": null,
      "outputs": [
        {
          "output_type": "stream",
          "name": "stdout",
          "text": [
            " this x = 1, x/2 = 0.5 \n",
            " this x = 3, x/2 = 1.5 \n",
            " this x = 5, x/2 = 2.5 \n",
            " this x = 7, x/2 = 3.5 \n",
            " this x = 9, x/2 = 4.5 \n"
          ]
        }
      ]
    },
    {
      "cell_type": "markdown",
      "source": [
        "\n",
        "\n",
        "```\n",
        "range(x)\n",
        "```\n",
        "คือคำสั่งสร้าง list ของตัวเลข เริ่มจาก 0 ถึง x-1  (มีทั้งหมด x ตัว)\n"
      ],
      "metadata": {
        "id": "ZulreRYhSh6G"
      }
    },
    {
      "cell_type": "code",
      "source": [
        "range(10)"
      ],
      "metadata": {
        "colab": {
          "base_uri": "https://localhost:8080/"
        },
        "id": "qMiREb4MSd-M",
        "outputId": "39920022-bb70-468b-d5be-26a910c10d11"
      },
      "execution_count": null,
      "outputs": [
        {
          "output_type": "execute_result",
          "data": {
            "text/plain": [
              "range(0, 10)"
            ]
          },
          "metadata": {},
          "execution_count": 105
        }
      ]
    },
    {
      "cell_type": "code",
      "source": [
        "list(range(10))     # โชว์ว่า range ที่สร้างคืออะไร"
      ],
      "metadata": {
        "colab": {
          "base_uri": "https://localhost:8080/"
        },
        "id": "lrYDYvlQSJz8",
        "outputId": "efb4ee1f-47ce-4cd6-eb33-084b41477604"
      },
      "execution_count": null,
      "outputs": [
        {
          "output_type": "execute_result",
          "data": {
            "text/plain": [
              "[0, 1, 2, 3, 4, 5, 6, 7, 8, 9]"
            ]
          },
          "metadata": {},
          "execution_count": 106
        }
      ]
    },
    {
      "cell_type": "code",
      "source": [
        "for i in range(10) :\n",
        "    print(f'Ha{i}')"
      ],
      "metadata": {
        "colab": {
          "base_uri": "https://localhost:8080/"
        },
        "id": "j2WYp0cQSgZC",
        "outputId": "03334f91-b16f-41ee-f5ae-0381265d48e7"
      },
      "execution_count": null,
      "outputs": [
        {
          "output_type": "stream",
          "name": "stdout",
          "text": [
            "Ha0\n",
            "Ha1\n",
            "Ha2\n",
            "Ha3\n",
            "Ha4\n",
            "Ha5\n",
            "Ha6\n",
            "Ha7\n",
            "Ha8\n",
            "Ha9\n"
          ]
        }
      ]
    },
    {
      "cell_type": "code",
      "source": [
        " for i in range(10) :\n",
        "    print(f'Ha{i}', end='')    # คำสั่ง end เป็นการบอกว่าไม่ให้เว้นบรรทัด โดยเลือกได้ว่าจะมีการเว้นวรรคระหว่างตัวหรือไม่"
      ],
      "metadata": {
        "colab": {
          "base_uri": "https://localhost:8080/"
        },
        "id": "hRDzi2nYTDdM",
        "outputId": "42947ff4-de87-479b-cfad-1073268f455c"
      },
      "execution_count": null,
      "outputs": [
        {
          "output_type": "stream",
          "name": "stdout",
          "text": [
            "Ha0Ha1Ha2Ha3Ha4Ha5Ha6Ha7Ha8Ha9"
          ]
        }
      ]
    },
    {
      "cell_type": "code",
      "source": [
        " for i in range(10) :\n",
        "    print(f'Ha{i}', end='  ') "
      ],
      "metadata": {
        "colab": {
          "base_uri": "https://localhost:8080/"
        },
        "id": "kblbZYeZTcwp",
        "outputId": "b0197da2-547f-45be-a1cb-33fd25cc0d44"
      },
      "execution_count": null,
      "outputs": [
        {
          "output_type": "stream",
          "name": "stdout",
          "text": [
            "Ha0  Ha1  Ha2  Ha3  Ha4  Ha5  Ha6  Ha7  Ha8  Ha9  "
          ]
        }
      ]
    },
    {
      "cell_type": "code",
      "source": [
        "list(range(5,10))     # สร้าง list ของตัวเลข เริ่มต้นจาก 5 ถึงน้อยกว่า 10 (= ถึง 9)"
      ],
      "metadata": {
        "colab": {
          "base_uri": "https://localhost:8080/"
        },
        "id": "gjm5Sx_yTedX",
        "outputId": "0f29db9f-383a-491f-b170-0e3670c9554d"
      },
      "execution_count": null,
      "outputs": [
        {
          "output_type": "execute_result",
          "data": {
            "text/plain": [
              "[5, 6, 7, 8, 9]"
            ]
          },
          "metadata": {},
          "execution_count": 113
        }
      ]
    },
    {
      "cell_type": "code",
      "source": [
        "list(range(5,100,5))         # สร้าง list ของตัวเลข เริ่มต้นจาก 5 ถึงน้อยกว่า 100 (= ถึง 99) โดยข้าม step ทีละ 5"
      ],
      "metadata": {
        "colab": {
          "base_uri": "https://localhost:8080/"
        },
        "id": "qRTGJQrKT7Mt",
        "outputId": "d9bdb776-c22f-4568-ecf8-0ad8d0068759"
      },
      "execution_count": null,
      "outputs": [
        {
          "output_type": "execute_result",
          "data": {
            "text/plain": [
              "[5, 10, 15, 20, 25, 30, 35, 40, 45, 50, 55, 60, 65, 70, 75, 80, 85, 90, 95]"
            ]
          },
          "metadata": {},
          "execution_count": 114
        }
      ]
    },
    {
      "cell_type": "markdown",
      "source": [
        "### Nested loop\n",
        "\n",
        "loop ซ้อน loop"
      ],
      "metadata": {
        "id": "DpDogcZzUtRp"
      }
    },
    {
      "cell_type": "code",
      "source": [
        "for i in range(3) :\n",
        "    #print(f' i = {i} ')\n",
        "    for j in range(2) :\n",
        "        #print(f' j = {j} ')\n",
        "        print(f' i = {i}, j = {j}, i+j = {i+j} ')"
      ],
      "metadata": {
        "colab": {
          "base_uri": "https://localhost:8080/"
        },
        "id": "DxTpMPqiUFdc",
        "outputId": "b127b32a-7d17-4bc7-f407-a78558191bc5"
      },
      "execution_count": null,
      "outputs": [
        {
          "output_type": "stream",
          "name": "stdout",
          "text": [
            " i = 0, j = 0, i+j = 0 \n",
            " i = 0, j = 1, i+j = 1 \n",
            " i = 1, j = 0, i+j = 1 \n",
            " i = 1, j = 1, i+j = 2 \n",
            " i = 2, j = 0, i+j = 2 \n",
            " i = 2, j = 1, i+j = 3 \n"
          ]
        }
      ]
    },
    {
      "cell_type": "markdown",
      "source": [
        "***"
      ],
      "metadata": {
        "id": "LbzfSwDWVlZ5"
      }
    },
    {
      "cell_type": "markdown",
      "source": [
        "Quiz2\n",
        "\n",
        "สร้าง list\n",
        "[[1], [1, 1], [1, 1, 1], ..., [1, 1, 1, 1, 1, 1, 1, 1, 1, 1]]"
      ],
      "metadata": {
        "id": "EVzSymRgVnUX"
      }
    },
    {
      "cell_type": "code",
      "source": [
        "a = []\n",
        "for i in range(10):\n",
        "    b = []\n",
        "    for j in range(i+1):\n",
        "        x = 1\n",
        "        b.append(x)\n",
        "    a.append(b)\n",
        "a"
      ],
      "metadata": {
        "colab": {
          "base_uri": "https://localhost:8080/"
        },
        "id": "CUmQNffZVDiP",
        "outputId": "b0cb1768-ce4c-423c-ee6f-bf20f017333f"
      },
      "execution_count": null,
      "outputs": [
        {
          "output_type": "execute_result",
          "data": {
            "text/plain": [
              "[[1],\n",
              " [1, 1],\n",
              " [1, 1, 1],\n",
              " [1, 1, 1, 1],\n",
              " [1, 1, 1, 1, 1],\n",
              " [1, 1, 1, 1, 1, 1],\n",
              " [1, 1, 1, 1, 1, 1, 1],\n",
              " [1, 1, 1, 1, 1, 1, 1, 1],\n",
              " [1, 1, 1, 1, 1, 1, 1, 1, 1],\n",
              " [1, 1, 1, 1, 1, 1, 1, 1, 1, 1]]"
            ]
          },
          "metadata": {},
          "execution_count": 136
        }
      ]
    },
    {
      "cell_type": "code",
      "source": [
        "list_ans = []\n",
        "#print(f'list_ans = {list_ans}')\n",
        "for i in range(1,11) :\n",
        "    temp = []\n",
        "    for j in range(i) :\n",
        "        temp.append(1)\n",
        "    #print(f' i = {i}  -->  temp = {temp}')\n",
        "    list_ans.append(temp)\n",
        "    #print(f' i = {i}  -->  list_ans = {list_ans}')\n",
        "print(list_ans)\n"
      ],
      "metadata": {
        "colab": {
          "base_uri": "https://localhost:8080/"
        },
        "id": "c7aqFZG2Xaoo",
        "outputId": "c22ec129-77c4-4948-9d08-4832b0322d09"
      },
      "execution_count": null,
      "outputs": [
        {
          "output_type": "stream",
          "name": "stdout",
          "text": [
            "[[1], [1, 1], [1, 1, 1], [1, 1, 1, 1], [1, 1, 1, 1, 1], [1, 1, 1, 1, 1, 1], [1, 1, 1, 1, 1, 1, 1], [1, 1, 1, 1, 1, 1, 1, 1], [1, 1, 1, 1, 1, 1, 1, 1, 1], [1, 1, 1, 1, 1, 1, 1, 1, 1, 1]]\n"
          ]
        }
      ]
    },
    {
      "cell_type": "markdown",
      "source": [
        "***"
      ],
      "metadata": {
        "id": "M8GJO4zvbZF6"
      }
    },
    {
      "cell_type": "markdown",
      "source": [
        "Quiz3\n",
        "\n",
        "สร้าง list\n",
        "[[1], [1, 2], [1, 2, 3], ..., [1, 2, 3, 4, 5, 6, 7, 8, 9, 10]]"
      ],
      "metadata": {
        "id": "e4UicGttbaKC"
      }
    },
    {
      "cell_type": "code",
      "source": [
        "list_ans = []\n",
        "#print(f'list_ans = {list_ans}')\n",
        "for i in range(1,11) :\n",
        "    temp = []\n",
        "    for j in range(i) :\n",
        "        temp.append(j+1)\n",
        "    #print(f' i = {i}  -->  temp = {temp}')\n",
        "    list_ans.append(temp)\n",
        "    #print(f' i = {i}  -->  list_ans = {list_ans}')\n",
        "print(list_ans)"
      ],
      "metadata": {
        "colab": {
          "base_uri": "https://localhost:8080/"
        },
        "id": "vIZn7ehRbg71",
        "outputId": "101d94b3-a213-478e-8fd9-f44dd8c13697"
      },
      "execution_count": null,
      "outputs": [
        {
          "output_type": "stream",
          "name": "stdout",
          "text": [
            "[[1], [1, 2], [1, 2, 3], [1, 2, 3, 4], [1, 2, 3, 4, 5], [1, 2, 3, 4, 5, 6], [1, 2, 3, 4, 5, 6, 7], [1, 2, 3, 4, 5, 6, 7, 8], [1, 2, 3, 4, 5, 6, 7, 8, 9], [1, 2, 3, 4, 5, 6, 7, 8, 9, 10]]\n"
          ]
        }
      ]
    },
    {
      "cell_type": "markdown",
      "source": [
        "***"
      ],
      "metadata": {
        "id": "nBC_Ydz0ciN0"
      }
    },
    {
      "cell_type": "markdown",
      "source": [
        "## Conditional Statement (if stagement)\n",
        "\n",
        "```\n",
        "if เงื่อนไขที่เราจะตรวจสอบ ( โดยอาศัยสัญลักษณ์ ==, !=, <, >, <=, <=, in, is_null() ) :\n",
        "    ถ้าเงื่อนไขเป็นจริง ทำสิ่งนี้\n",
        "    ถ้าเงื่อนไขเป็นจริง ทำสิ่งนี้\n",
        "```"
      ],
      "metadata": {
        "id": "7rmI8uGCc418"
      }
    },
    {
      "cell_type": "code",
      "source": [
        "if 1 < 5 :\n",
        "    print('yes')"
      ],
      "metadata": {
        "colab": {
          "base_uri": "https://localhost:8080/"
        },
        "id": "yq2J0tllbrLg",
        "outputId": "5c931bf5-4c2e-44fd-a1b9-3f5489318d43"
      },
      "execution_count": null,
      "outputs": [
        {
          "output_type": "stream",
          "name": "stdout",
          "text": [
            "yes\n"
          ]
        }
      ]
    },
    {
      "cell_type": "markdown",
      "source": [
        "กรณีที่มีเงื่อนไขหลายอัน\n",
        "\n",
        "```\n",
        "if เงื่อนไขที่เราจะตรวจสอบ ( โดยอาศัยสัญลักษณ์ ==, !=, <, >, <=, <=, in, is_null() ) :\n",
        "    ถ้าเงื่อนไขเป็นจริง ทำ a1\n",
        "    ถ้าเงื่อนไขเป็นจริง ทำ a2\n",
        "elif เงื่อนไขที่จะตรวจสอบต่อไป หากเงื่อนไขด้านบนไม่เป็นจริง :\n",
        "    ถ้าเงื่อนไขเป็นจริง ทำ b1\n",
        "    ถ้าเงื่อนไขเป็นจริง ทำ b2\n",
        "elif เงื่อนไขที่จะตรวจสอบต่อไป หากเงื่อนไขด้านบนไม่เป็นจริง :\n",
        "    ถ้าเงื่อนไขเป็นจริง ทำ c1\n",
        "    ถ้าเงื่อนไขเป็นจริง ทำ c2\n",
        "else :  #ตรวจสอบเงื่อนไขข้างบนแล้วไม่เป็นจริง\n",
        "    ทำ d1\n",
        "    ทำ d2\n",
        "```"
      ],
      "metadata": {
        "id": "u4DSdvU4eGT8"
      }
    },
    {
      "cell_type": "code",
      "source": [
        "x = 12\n",
        "\n",
        "if x < 5 :\n",
        "    print('yes')\n",
        "else :\n",
        "    print('no')"
      ],
      "metadata": {
        "colab": {
          "base_uri": "https://localhost:8080/"
        },
        "id": "90GqsMxxdjAF",
        "outputId": "f9786c4c-8dbe-4a0c-a32f-edfa661e45a9"
      },
      "execution_count": null,
      "outputs": [
        {
          "output_type": "stream",
          "name": "stdout",
          "text": [
            "no\n"
          ]
        }
      ]
    },
    {
      "cell_type": "markdown",
      "source": [
        "***"
      ],
      "metadata": {
        "id": "UkkaZjV0fOww"
      }
    },
    {
      "cell_type": "markdown",
      "source": [
        "Example\n",
        "\n",
        "list_ex = [1, 5, 9, -19, -2, 0]\n",
        "หาค่าที่น้อยที่สุดใน list_ex โดยไม่ใช้ฟังก์ชัน min (ใช้ for กับ if)"
      ],
      "metadata": {
        "id": "k46iiICsfPew"
      }
    },
    {
      "cell_type": "code",
      "source": [
        "list_ex = [1, 5, 9, -19, -2, 0]\n",
        "min_list = list_ex[0]\n",
        "\n",
        "for i in list_ex :\n",
        "    if i < min_list :\n",
        "        min_list = i\n",
        "print(min_list)"
      ],
      "metadata": {
        "colab": {
          "base_uri": "https://localhost:8080/"
        },
        "id": "L3-qCS0ve39D",
        "outputId": "fa758541-5458-47a1-dacc-db48f03b5d3c"
      },
      "execution_count": null,
      "outputs": [
        {
          "output_type": "stream",
          "name": "stdout",
          "text": [
            "-19\n"
          ]
        }
      ]
    },
    {
      "cell_type": "code",
      "source": [
        "# เฉลย\n",
        "\n",
        "list_ex = [1, 5, 9, -19, -2, 0]\n",
        "min = 10000000\n",
        "for i in list_ex :\n",
        "    #print(f' now i = {i}, min = {min}')\n",
        "    #print(' Staer condition ')\n",
        "    if i < min :\n",
        "        #print(f' i < min, update min = {i} ')\n",
        "        min = i\n",
        "    #else :\n",
        "        #print(f' i >= min, not update ')\n",
        "    #print(' End condition, go to next i ')\n",
        "print(min)"
      ],
      "metadata": {
        "colab": {
          "base_uri": "https://localhost:8080/"
        },
        "id": "jx2j-tHofwKu",
        "outputId": "ff3c4619-b25f-4614-8664-c95763928188"
      },
      "execution_count": null,
      "outputs": [
        {
          "output_type": "stream",
          "name": "stdout",
          "text": [
            "-19\n"
          ]
        }
      ]
    },
    {
      "cell_type": "markdown",
      "source": [
        "***"
      ],
      "metadata": {
        "id": "nrRbGzMqiEvU"
      }
    },
    {
      "cell_type": "markdown",
      "source": [
        "Quiz4\n",
        "\n",
        "list_ex = [1, 5, 9, -19, -2, 0]\n",
        "หาค่าที่มากที่สุดใน list_ex โดยไม่ใช้ฟังก์ชัน max (ใช้ for กับ if)"
      ],
      "metadata": {
        "id": "tcQuuVGDiFou"
      }
    },
    {
      "cell_type": "code",
      "source": [
        "list_ex = [1, 5, 9, -19, -2, 0]\n",
        "max_list = list_ex[0]\n",
        "\n",
        "for i in list_ex :\n",
        "    if i > max_list :\n",
        "        max_list = i\n",
        "print(max_list)"
      ],
      "metadata": {
        "id": "3VYsX1uphmS7",
        "outputId": "12e4a937-21c4-4e13-d1e7-24378a3f6bf2",
        "colab": {
          "base_uri": "https://localhost:8080/"
        }
      },
      "execution_count": null,
      "outputs": [
        {
          "output_type": "stream",
          "name": "stdout",
          "text": [
            "9\n"
          ]
        }
      ]
    },
    {
      "cell_type": "markdown",
      "source": [
        "***\n",
        "***"
      ],
      "metadata": {
        "id": "EWV1KvgWx4oD"
      }
    },
    {
      "cell_type": "markdown",
      "source": [
        "## Function\n",
        "\n",
        "การสร้างฟังก์ชันเพื่อเอาไว้เรียกใช้ซ้ำ แทนการพิมพ์คำสั่งยาวๆ\n",
        "\n",
        "```\n",
        "def ชื่อฟังก์ชัน(input1, input2, ...) :\n",
        "    งาน xxx\n",
        "    งาน yyy\n",
        "    return output\n",
        "```\n",
        "\n",
        "หลังรันฟังก์ชัน จะไม่มีการโชว์อะไร (เพราะเก็บฟังก์ชันในเมมโมรี่)\n",
        "\n",
        "เวลาที่จะเอาไปใช้ (ต้องรันฟังก์ชันให้เรียบร้อยก่อน) ให้ใส่ข้อมูล input และเขียนชื่อฟังก์ชันที่สร้างไว้"
      ],
      "metadata": {
        "id": "2vmZpG6JyMPp"
      }
    },
    {
      "cell_type": "markdown",
      "source": [
        "ส่วนประกอบสำคัญของฟังก์ชัน\n",
        "\n",
        "*   input : ตัวแปรที่จะใส่เข้าไป เพื่อใช้ในการคำนวณ\n",
        "*   process (ต้องมี!!!!) : กระบวนการคำนวณเพื่อหาสิ่งที่ต้องการ\n",
        "*   output : ผลลัพธ์ที่ต้องการ\n",
        "\n",
        "\n",
        "\n"
      ],
      "metadata": {
        "id": "QIrABC4ezMGO"
      }
    },
    {
      "cell_type": "markdown",
      "source": [
        "#### Example 1 : มีส่วนประกอบครบทั้งสามส่วน"
      ],
      "metadata": {
        "id": "bHpZNSTgztRB"
      }
    },
    {
      "cell_type": "code",
      "source": [
        "def find_min(list_ex):\n",
        "    min = 100000000\n",
        "    for x in list_ex :\n",
        "        if x < min :\n",
        "            min = x\n",
        "    return min"
      ],
      "metadata": {
        "id": "SvTei91ox6nB"
      },
      "execution_count": 1,
      "outputs": []
    },
    {
      "cell_type": "code",
      "source": [
        "list_A = [1,5,9,-19,-2,0]\n",
        "find_min(list_A)"
      ],
      "metadata": {
        "colab": {
          "base_uri": "https://localhost:8080/"
        },
        "id": "iiKyIsm90LoP",
        "outputId": "ed1c1e32-36b9-47f5-92c8-e4734d3cbed9"
      },
      "execution_count": 2,
      "outputs": [
        {
          "output_type": "execute_result",
          "data": {
            "text/plain": [
              "-19"
            ]
          },
          "metadata": {},
          "execution_count": 2
        }
      ]
    },
    {
      "cell_type": "markdown",
      "source": [
        "#### Example 2 : ไม่มี output\n",
        "\n",
        "หลังคำนวณจะโชว์ค่าผลลัพธ์มาให้ แต่ไม่สามารถนำไปใช้งานต่อได้"
      ],
      "metadata": {
        "id": "U_rg5zQx1WBH"
      }
    },
    {
      "cell_type": "code",
      "source": [
        "def find_min2(list_ex):\n",
        "    min = 100000000\n",
        "    for x in list_ex :\n",
        "        if x < min :\n",
        "            min = x\n",
        "    print(min)"
      ],
      "metadata": {
        "id": "2jXlayUM00WP"
      },
      "execution_count": 3,
      "outputs": []
    },
    {
      "cell_type": "code",
      "source": [
        "find_min2(list_A)"
      ],
      "metadata": {
        "colab": {
          "base_uri": "https://localhost:8080/"
        },
        "id": "YqJ9c-EN1sHD",
        "outputId": "c9392f81-29e9-4d2f-fe50-f58f302caff5"
      },
      "execution_count": 4,
      "outputs": [
        {
          "output_type": "stream",
          "name": "stdout",
          "text": [
            "-19\n"
          ]
        }
      ]
    },
    {
      "cell_type": "markdown",
      "source": [
        "ข้อแตกต่างระหว่าง Ex1 และ Ex2 คือ Ex1 สามารถเอาตัวแปรมารับค่าได้"
      ],
      "metadata": {
        "id": "_wg_JEa_1wQM"
      }
    },
    {
      "cell_type": "code",
      "source": [
        "x1 = find_min(list_A)"
      ],
      "metadata": {
        "id": "C43PAyZU1uYQ"
      },
      "execution_count": 5,
      "outputs": []
    },
    {
      "cell_type": "code",
      "source": [
        "x1"
      ],
      "metadata": {
        "colab": {
          "base_uri": "https://localhost:8080/"
        },
        "id": "YUlTpwDq2b9G",
        "outputId": "b8f8f51c-2b92-4fc9-f685-14a84c5a2f2a"
      },
      "execution_count": 6,
      "outputs": [
        {
          "output_type": "execute_result",
          "data": {
            "text/plain": [
              "-19"
            ]
          },
          "metadata": {},
          "execution_count": 6
        }
      ]
    },
    {
      "cell_type": "code",
      "source": [
        "x2 = find_min2(list_A)"
      ],
      "metadata": {
        "colab": {
          "base_uri": "https://localhost:8080/"
        },
        "id": "R1tqDXKZ14H8",
        "outputId": "60f8259e-df25-430e-cc64-386e080c8155"
      },
      "execution_count": 7,
      "outputs": [
        {
          "output_type": "stream",
          "name": "stdout",
          "text": [
            "-19\n"
          ]
        }
      ]
    },
    {
      "cell_type": "code",
      "source": [
        "x2"
      ],
      "metadata": {
        "id": "OBMfn4u61_zO"
      },
      "execution_count": 8,
      "outputs": []
    },
    {
      "cell_type": "markdown",
      "source": [
        "---> x2 จะไม่มีค่าอะไรโชว์มาให้เห็น!"
      ],
      "metadata": {
        "id": "sU0UT_PO2O1T"
      }
    },
    {
      "cell_type": "markdown",
      "source": [
        "### Example 3 : ไม่มี input\n",
        "\n",
        "กำหนดค่า pi เพื่อใช้งาน"
      ],
      "metadata": {
        "id": "HH9hWCK822AH"
      }
    },
    {
      "cell_type": "code",
      "source": [
        "def Pi_val() :\n",
        "    return 3.1416"
      ],
      "metadata": {
        "id": "g4XZjaJX2Cxg"
      },
      "execution_count": 9,
      "outputs": []
    },
    {
      "cell_type": "code",
      "source": [
        "r = 10\n",
        "print(f'พื้นที่วงกลมที่มีเส้นผ่านศูนย์กลาง เท่ากับ {r} คือ {Pi_val()*r*r}')"
      ],
      "metadata": {
        "colab": {
          "base_uri": "https://localhost:8080/"
        },
        "id": "uH0m2oGk3C5r",
        "outputId": "75dc22bb-6744-4bd4-91ad-6c0a04f4c447"
      },
      "execution_count": 10,
      "outputs": [
        {
          "output_type": "stream",
          "name": "stdout",
          "text": [
            "พื้นที่วงกลมที่มีเส้นผ่านศูนย์กลาง เท่ากับ 10 คือ 314.16\n"
          ]
        }
      ]
    },
    {
      "cell_type": "markdown",
      "source": [
        "### Example 4 : ไม่มีทั้ง input และ output"
      ],
      "metadata": {
        "id": "qvDvLBTB3cwz"
      }
    },
    {
      "cell_type": "code",
      "source": [
        "def draw_rectangle() :\n",
        "    print(' ====')\n",
        "    print('|         |')\n",
        "    print(' ====')"
      ],
      "metadata": {
        "id": "2wkyl1xt3O1m"
      },
      "execution_count": 16,
      "outputs": []
    },
    {
      "cell_type": "code",
      "source": [
        "draw_rectangle()"
      ],
      "metadata": {
        "colab": {
          "base_uri": "https://localhost:8080/"
        },
        "id": "A6Kask6L4Znz",
        "outputId": "407870e1-5fd7-4071-a64b-cedbfcd44bd8"
      },
      "execution_count": 17,
      "outputs": [
        {
          "output_type": "stream",
          "name": "stdout",
          "text": [
            " ====\n",
            "|         |\n",
            " ====\n"
          ]
        }
      ]
    },
    {
      "cell_type": "code",
      "source": [
        "def draw_hello() :\n",
        "    print(' ========')\n",
        "    print('|     Hello      |')\n",
        "    print(' ========')"
      ],
      "metadata": {
        "id": "YnzMWayE4cLV"
      },
      "execution_count": 21,
      "outputs": []
    },
    {
      "cell_type": "code",
      "source": [
        "draw_hello()"
      ],
      "metadata": {
        "colab": {
          "base_uri": "https://localhost:8080/"
        },
        "id": "tAdGRsO24tCf",
        "outputId": "6512bd00-974b-4532-99ae-9427d3167244"
      },
      "execution_count": 22,
      "outputs": [
        {
          "output_type": "stream",
          "name": "stdout",
          "text": [
            " ========\n",
            "|     Hello      |\n",
            " ========\n"
          ]
        }
      ]
    },
    {
      "cell_type": "markdown",
      "source": [
        "### Example 5 : ไม่มี process\n",
        "\n",
        "จะรันไม่ผ่าน เพราะฟังก์ชันต้องมี process เสมอ!!!!"
      ],
      "metadata": {
        "id": "_Ok92PP842IU"
      }
    },
    {
      "cell_type": "code",
      "source": [
        "def draw_triangle() :\n",
        "    "
      ],
      "metadata": {
        "colab": {
          "base_uri": "https://localhost:8080/",
          "height": 132
        },
        "id": "0myUe2kn4ulX",
        "outputId": "63cac5bf-949f-4bcf-fb3c-b2dbd3582e4b"
      },
      "execution_count": 23,
      "outputs": [
        {
          "output_type": "error",
          "ename": "SyntaxError",
          "evalue": "ignored",
          "traceback": [
            "\u001b[0;36m  File \u001b[0;32m\"<ipython-input-23-258524c884c9>\"\u001b[0;36m, line \u001b[0;32m2\u001b[0m\n\u001b[0;31m    \u001b[0m\n\u001b[0m    ^\u001b[0m\n\u001b[0;31mSyntaxError\u001b[0m\u001b[0;31m:\u001b[0m unexpected EOF while parsing\n"
          ]
        }
      ]
    },
    {
      "cell_type": "markdown",
      "source": [
        "***"
      ],
      "metadata": {
        "id": "QqS4mFNp5IOa"
      }
    },
    {
      "cell_type": "markdown",
      "source": [
        "### ลักษณะของ input (parameter, argument)\n",
        "\n",
        "*   จำเป็นต้องใส่ (non-default argument)   : ไม่มีการเซ็ตค่า default เอาไว้\n",
        "*   ไม่จำเป็นต้องใส่ (default argument)      : มีการเซ็ตค่า default ไว้แล้ว (ใส่เครื่องหมาย = ให้ในส่วน input ของฟังก์ชัน)\n",
        "\n",
        "** ไม่จำเป็นต้องมีแค่ค่าเดียว\n"
      ],
      "metadata": {
        "id": "x6iPpSFh5Jr4"
      }
    },
    {
      "cell_type": "markdown",
      "source": [
        "ในการใช้งานฟังก์ชันของคนอื่น (ซึ่งเขาจะพยายามทำให้สมบูรณ์ที่สุด = สามารถปรับแต่งได้) \n",
        "\n",
        "บางทีในฟังก์ชันนั้นอาจจะมีหลาย input แต่บางตัวอาจจะกำหนดค่า default มาให้อยู่แล้ว ซึ่งนั่นหมายความว่า เราไม่จำเป็นต้องใส่ค่าให้ตัวแปรนั้น (ในกรณีที่ไม่ใส่ โปรแกรมจะใช้ค่า default)\n",
        "\n",
        "เพราะฉะนั้นจึงต้องรู้ว่า input ตัวไหนจำเป็นหรือไม่จำเป็นต้องใส่"
      ],
      "metadata": {
        "id": "t6KMhofu5h5g"
      }
    },
    {
      "cell_type": "code",
      "source": [
        "def draw_rectangle(dbbound=True) :\n",
        "    if dbbound :\n",
        "        print(' ======')\n",
        "        print('||           ||')\n",
        "        print(' ======')\n",
        "    else :\n",
        "        print(' -----------')\n",
        "        print('|            |')\n",
        "        print(' -----------')"
      ],
      "metadata": {
        "id": "S8kEfpOY5DzT"
      },
      "execution_count": 35,
      "outputs": []
    },
    {
      "cell_type": "code",
      "source": [
        "draw_rectangle()        # ไม่ได้ใส่ input ฟังก์ชันจะเรียกใช้ค่า defalut"
      ],
      "metadata": {
        "colab": {
          "base_uri": "https://localhost:8080/"
        },
        "id": "n6icPc516fAn",
        "outputId": "7835ff98-3845-4635-f5ca-c4ce15c8c14a"
      },
      "execution_count": 36,
      "outputs": [
        {
          "output_type": "stream",
          "name": "stdout",
          "text": [
            " ======\n",
            "||           ||\n",
            " ======\n"
          ]
        }
      ]
    },
    {
      "cell_type": "code",
      "source": [
        "draw_rectangle(True)"
      ],
      "metadata": {
        "colab": {
          "base_uri": "https://localhost:8080/"
        },
        "id": "Pmp3SIib6hEs",
        "outputId": "12a92dc0-2c53-4a20-dc6e-e6958111daf5"
      },
      "execution_count": 37,
      "outputs": [
        {
          "output_type": "stream",
          "name": "stdout",
          "text": [
            " ======\n",
            "||           ||\n",
            " ======\n"
          ]
        }
      ]
    },
    {
      "cell_type": "code",
      "source": [
        "draw_rectangle(False)"
      ],
      "metadata": {
        "colab": {
          "base_uri": "https://localhost:8080/"
        },
        "id": "huSj9k8o6qjQ",
        "outputId": "2e2b1ca6-8613-40ad-f88a-f70fea4562b0"
      },
      "execution_count": 38,
      "outputs": [
        {
          "output_type": "stream",
          "name": "stdout",
          "text": [
            " -----------\n",
            "|            |\n",
            " -----------\n"
          ]
        }
      ]
    },
    {
      "cell_type": "code",
      "source": [
        "find_min2()     # จะรันไม่ได้ เพราะในฟังก์ชันไม่มีการกำหนดค่า default ให้ input"
      ],
      "metadata": {
        "colab": {
          "base_uri": "https://localhost:8080/",
          "height": 166
        },
        "id": "A0a-sk8H6uDo",
        "outputId": "cb55fe2a-ddc6-43bd-e1c9-3a632a7930d7"
      },
      "execution_count": 39,
      "outputs": [
        {
          "output_type": "error",
          "ename": "TypeError",
          "evalue": "ignored",
          "traceback": [
            "\u001b[0;31m---------------------------------------------------------------------------\u001b[0m",
            "\u001b[0;31mTypeError\u001b[0m                                 Traceback (most recent call last)",
            "\u001b[0;32m<ipython-input-39-a42e56ea3c18>\u001b[0m in \u001b[0;36m<module>\u001b[0;34m()\u001b[0m\n\u001b[0;32m----> 1\u001b[0;31m \u001b[0mfind_min2\u001b[0m\u001b[0;34m(\u001b[0m\u001b[0;34m)\u001b[0m     \u001b[0;31m# จะรันไม่ได้ เพราะในฟังก์ชันไม่มีการกำหนดค่า default ให้ input\u001b[0m\u001b[0;34m\u001b[0m\u001b[0;34m\u001b[0m\u001b[0m\n\u001b[0m",
            "\u001b[0;31mTypeError\u001b[0m: find_min2() missing 1 required positional argument: 'list_ex'"
          ]
        }
      ]
    },
    {
      "cell_type": "code",
      "source": [
        "def draw_rectangle(size, dbbound=True) :      \n",
        "# input มีหลายตัวได้ และมีผสมระหว่างตัวที่ต้องใส่และไม่จำเป็นต้องใส่ได้ โดยที่เวลาเรียก ให้นำตัวที่ต้องใส่ค่ามาไว้ด้านหน้า!\n",
        "# เวลาเรียกใช้ จะใส่แบบเรียกลำดับ (ถ้าไม่อยากเรียง ต้องบอกว่า input ไหนเท่ากับอะไร)\n",
        "    if dbbound :\n",
        "        up = '='\n",
        "        space = ' '\n",
        "        print(f'{(size+4)*up}')\n",
        "        print(f'||{size*space}||')\n",
        "        print(f'{(size+4)*up}')\n",
        "    else :\n",
        "        up = '-'\n",
        "        space = ' '\n",
        "        print(f'{(size+4)*up}')\n",
        "        print(f'|{size*space}|')\n",
        "        print(f'{(size+4)*up}')\n",
        "## ถ้าไม่อยากเขียนตัวแปร space สามารถใช้เป็น  print(f'|{size*\" \"}|')  ก็ได้ (ต้องใช้ quote คนละตัว)"
      ],
      "metadata": {
        "id": "P_BYxWJG7aPu"
      },
      "execution_count": 49,
      "outputs": []
    },
    {
      "cell_type": "code",
      "source": [
        "draw_rectangle()    #ไม่ใส่ค่า size เลยรันไม่ได้"
      ],
      "metadata": {
        "colab": {
          "base_uri": "https://localhost:8080/",
          "height": 166
        },
        "id": "NgnpqH7W8lC7",
        "outputId": "5ea253cf-a952-4486-b573-2ad63059103f"
      },
      "execution_count": 50,
      "outputs": [
        {
          "output_type": "error",
          "ename": "TypeError",
          "evalue": "ignored",
          "traceback": [
            "\u001b[0;31m---------------------------------------------------------------------------\u001b[0m",
            "\u001b[0;31mTypeError\u001b[0m                                 Traceback (most recent call last)",
            "\u001b[0;32m<ipython-input-50-18b5a7772e88>\u001b[0m in \u001b[0;36m<module>\u001b[0;34m()\u001b[0m\n\u001b[0;32m----> 1\u001b[0;31m \u001b[0mdraw_rectangle\u001b[0m\u001b[0;34m(\u001b[0m\u001b[0;34m)\u001b[0m    \u001b[0;31m#ไม่ใส่ค่า size เลยรันไม่ได้\u001b[0m\u001b[0;34m\u001b[0m\u001b[0;34m\u001b[0m\u001b[0m\n\u001b[0m",
            "\u001b[0;31mTypeError\u001b[0m: draw_rectangle() missing 1 required positional argument: 'size'"
          ]
        }
      ]
    },
    {
      "cell_type": "code",
      "source": [
        " draw_rectangle(10,False)"
      ],
      "metadata": {
        "colab": {
          "base_uri": "https://localhost:8080/"
        },
        "id": "9t4uDALw8oBD",
        "outputId": "9c2f909c-04fd-4018-881d-87faf5433890"
      },
      "execution_count": 51,
      "outputs": [
        {
          "output_type": "stream",
          "name": "stdout",
          "text": [
            "--------------\n",
            "|          |\n",
            "--------------\n"
          ]
        }
      ]
    },
    {
      "cell_type": "code",
      "source": [
        " draw_rectangle(dbbound=True, size=7)"
      ],
      "metadata": {
        "colab": {
          "base_uri": "https://localhost:8080/"
        },
        "id": "p7EvGnn4-kaw",
        "outputId": "ee0200b2-b3f6-4838-9b91-ca4b4123bbd2"
      },
      "execution_count": 53,
      "outputs": [
        {
          "output_type": "stream",
          "name": "stdout",
          "text": [
            "===========\n",
            "||       ||\n",
            "===========\n"
          ]
        }
      ]
    },
    {
      "cell_type": "code",
      "source": [
        " draw_rectangle(False,5)      ##ผลจะออกมาผิด!"
      ],
      "metadata": {
        "colab": {
          "base_uri": "https://localhost:8080/"
        },
        "id": "nAQ9AsydAVFN",
        "outputId": "4d181bf0-092a-4219-daf8-580b23ad8aaa"
      },
      "execution_count": 54,
      "outputs": [
        {
          "output_type": "stream",
          "name": "stdout",
          "text": [
            "====\n",
            "||||\n",
            "====\n"
          ]
        }
      ]
    },
    {
      "cell_type": "markdown",
      "source": [
        "***"
      ],
      "metadata": {
        "id": "XHA2iB6oArUU"
      }
    },
    {
      "cell_type": "markdown",
      "source": [
        "Quiz5\n",
        "\n",
        "วาด function วาดสี่เหลี่ยม โดยให้สามารถกำหนดความยาวและความกว้างได้\n",
        "\n",
        "แต่ถ้าใส่ parameter ตัวเดียว ให้วาดเป็นสี่เหลี่ยมจัตุรัสที่มีด้านยาวเท่ากับ parameter ที่ใส่\n",
        "\n",
        "ให้แสดง ความกว้าง x ความยาว ของสี่เหลี่ยม เช่น\n",
        "\n",
        "```\n",
        "rext(3,5)\n",
        "> 3 x 5\n",
        "\n",
        "rext(7)\n",
        "> 7 x 7\n",
        "```\n",
        "\n"
      ],
      "metadata": {
        "id": "rXwq2y6PAsuG"
      }
    },
    {
      "cell_type": "code",
      "source": [
        "def rext(width, length='L') :\n",
        "    if length == 'L' :# check if there is only 1 argument\n",
        "        length = width\n",
        "    print(f'{width} x {length}')"
      ],
      "metadata": {
        "id": "RTmo59CZCVhN"
      },
      "execution_count": 72,
      "outputs": []
    },
    {
      "cell_type": "code",
      "source": [
        "rext(3,5)"
      ],
      "metadata": {
        "colab": {
          "base_uri": "https://localhost:8080/"
        },
        "id": "ASIjH1thDhxa",
        "outputId": "06132439-f98f-43f5-8e32-32c2383909eb"
      },
      "execution_count": 73,
      "outputs": [
        {
          "output_type": "stream",
          "name": "stdout",
          "text": [
            "3 x 5\n"
          ]
        }
      ]
    },
    {
      "cell_type": "code",
      "source": [
        "rext(7)"
      ],
      "metadata": {
        "colab": {
          "base_uri": "https://localhost:8080/"
        },
        "id": "9bE-R5aTDllL",
        "outputId": "d87c588a-9a6a-47a8-d59b-211945500bae"
      },
      "execution_count": 74,
      "outputs": [
        {
          "output_type": "stream",
          "name": "stdout",
          "text": [
            "7 x 7\n"
          ]
        }
      ]
    },
    {
      "cell_type": "code",
      "source": [
        "def draw_rext(width, length='L') :       ## ลองวาด\n",
        "    up = '-'\n",
        "    space = ' '\n",
        "    if length == 'L' :\n",
        "        length = width\n",
        "    print(f'{width*up}')\n",
        "    for i in range(1,length+1):\n",
        "        print(f'|{width*space}|')\n",
        "    print(f'{width*up}')"
      ],
      "metadata": {
        "id": "uPZe1jD8AceR"
      },
      "execution_count": 75,
      "outputs": []
    },
    {
      "cell_type": "code",
      "source": [
        "draw_rext(3,5)"
      ],
      "metadata": {
        "colab": {
          "base_uri": "https://localhost:8080/"
        },
        "id": "n2YezUfDDrYk",
        "outputId": "2709c478-561d-4a71-bb98-3f25c7719488"
      },
      "execution_count": 76,
      "outputs": [
        {
          "output_type": "stream",
          "name": "stdout",
          "text": [
            "---\n",
            "|   |\n",
            "|   |\n",
            "|   |\n",
            "|   |\n",
            "|   |\n",
            "---\n"
          ]
        }
      ]
    },
    {
      "cell_type": "code",
      "source": [
        "draw_rext(7)"
      ],
      "metadata": {
        "colab": {
          "base_uri": "https://localhost:8080/"
        },
        "id": "oKBuCSk6FRow",
        "outputId": "90d83c4f-1416-4873-9f08-288bc06dd3e3"
      },
      "execution_count": 77,
      "outputs": [
        {
          "output_type": "stream",
          "name": "stdout",
          "text": [
            "-------\n",
            "|       |\n",
            "|       |\n",
            "|       |\n",
            "|       |\n",
            "|       |\n",
            "|       |\n",
            "|       |\n",
            "-------\n"
          ]
        }
      ]
    },
    {
      "cell_type": "markdown",
      "source": [
        "***\n",
        "***"
      ],
      "metadata": {
        "id": "e5t6VIJFF9OF"
      }
    }
  ]
}