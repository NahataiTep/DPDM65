{
  "nbformat": 4,
  "nbformat_minor": 0,
  "metadata": {
    "colab": {
      "name": "Data101 (Chapter2).ipynb",
      "provenance": [],
      "toc_visible": true,
      "authorship_tag": "ABX9TyMYoM/1Tw3Nl4zHV3ui5Erg",
      "include_colab_link": true
    },
    "kernelspec": {
      "name": "python3",
      "display_name": "Python 3"
    },
    "language_info": {
      "name": "python"
    }
  },
  "cells": [
    {
      "cell_type": "markdown",
      "metadata": {
        "id": "view-in-github",
        "colab_type": "text"
      },
      "source": [
        "<a href=\"https://colab.research.google.com/github/NahataiTep/DPDM65/blob/main/Data101_(Chapter2).ipynb\" target=\"_parent\"><img src=\"https://colab.research.google.com/assets/colab-badge.svg\" alt=\"Open In Colab\"/></a>"
      ]
    },
    {
      "cell_type": "markdown",
      "source": [
        "pandas คือ package ที่มีคนพัฒนาขึ้นมาเพื่อใช้จัดการข้อมูลที่มีลักษณะเป็นตาราง ซึ่งใน pandas เรียกว่า dataframe"
      ],
      "metadata": {
        "id": "csEDFQ8_HCkR"
      }
    },
    {
      "cell_type": "code",
      "execution_count": 1,
      "metadata": {
        "id": "euDGRD2tFzyU"
      },
      "outputs": [],
      "source": [
        "import pandas # import pandas คือ โหลด package ที่ชื่อว่า pandas มาใช้"
      ]
    },
    {
      "cell_type": "code",
      "source": [
        "import pandas as pd # โหลด package ที่ชื่อว่า pandas มาใช้ แล้วตั้งชื่อว่า pd"
      ],
      "metadata": {
        "id": "obEHnUd1G69k"
      },
      "execution_count": 2,
      "outputs": []
    },
    {
      "cell_type": "markdown",
      "source": [
        "import ใช้แบบไหนก็ได้ เลือกมาหนึ่งอัน (แต่ตอนนี้มักนิยมใช้อันล่าง เพื่อย่อคำสั่งให้สั้นๆ)\n",
        "\n",
        "การเรียกใช้คำสั่งใน package จะพิมพ์ชื่อเต็มหรือชื่อใหม่ ขึ้นอยู่กับว่าเขียน import แบบไหน"
      ],
      "metadata": {
        "id": "wS18SVcaL3ia"
      }
    },
    {
      "cell_type": "markdown",
      "source": [
        "ไฟล์ .CSV (comma separated values)"
      ],
      "metadata": {
        "id": "sO5URm2-IGDc"
      }
    },
    {
      "cell_type": "code",
      "source": [
        "data_df = pd.read_csv('data.csv')"
      ],
      "metadata": {
        "id": "EBDEuFcAIEvA"
      },
      "execution_count": 3,
      "outputs": []
    },
    {
      "cell_type": "code",
      "source": [
        "data_df"
      ],
      "metadata": {
        "colab": {
          "base_uri": "https://localhost:8080/",
          "height": 112
        },
        "id": "y94VIe2hK6NB",
        "outputId": "0c789376-6652-412d-f18c-451eb05a2eb2"
      },
      "execution_count": 4,
      "outputs": [
        {
          "output_type": "execute_result",
          "data": {
            "text/plain": [
              "   car_id        \\tmodel  \\tyear  \\tvalue  \\tperson_id\n",
              "0     101      \\tbentley    1973   100000            1\n",
              "1     102  \\trolls royce    1965   330000            1"
            ],
            "text/html": [
              "\n",
              "  <div id=\"df-8a90e9de-6daa-4bec-91f8-1ae9f5ae387e\">\n",
              "    <div class=\"colab-df-container\">\n",
              "      <div>\n",
              "<style scoped>\n",
              "    .dataframe tbody tr th:only-of-type {\n",
              "        vertical-align: middle;\n",
              "    }\n",
              "\n",
              "    .dataframe tbody tr th {\n",
              "        vertical-align: top;\n",
              "    }\n",
              "\n",
              "    .dataframe thead th {\n",
              "        text-align: right;\n",
              "    }\n",
              "</style>\n",
              "<table border=\"1\" class=\"dataframe\">\n",
              "  <thead>\n",
              "    <tr style=\"text-align: right;\">\n",
              "      <th></th>\n",
              "      <th>car_id</th>\n",
              "      <th>\\tmodel</th>\n",
              "      <th>\\tyear</th>\n",
              "      <th>\\tvalue</th>\n",
              "      <th>\\tperson_id</th>\n",
              "    </tr>\n",
              "  </thead>\n",
              "  <tbody>\n",
              "    <tr>\n",
              "      <th>0</th>\n",
              "      <td>101</td>\n",
              "      <td>\\tbentley</td>\n",
              "      <td>1973</td>\n",
              "      <td>100000</td>\n",
              "      <td>1</td>\n",
              "    </tr>\n",
              "    <tr>\n",
              "      <th>1</th>\n",
              "      <td>102</td>\n",
              "      <td>\\trolls royce</td>\n",
              "      <td>1965</td>\n",
              "      <td>330000</td>\n",
              "      <td>1</td>\n",
              "    </tr>\n",
              "  </tbody>\n",
              "</table>\n",
              "</div>\n",
              "      <button class=\"colab-df-convert\" onclick=\"convertToInteractive('df-8a90e9de-6daa-4bec-91f8-1ae9f5ae387e')\"\n",
              "              title=\"Convert this dataframe to an interactive table.\"\n",
              "              style=\"display:none;\">\n",
              "        \n",
              "  <svg xmlns=\"http://www.w3.org/2000/svg\" height=\"24px\"viewBox=\"0 0 24 24\"\n",
              "       width=\"24px\">\n",
              "    <path d=\"M0 0h24v24H0V0z\" fill=\"none\"/>\n",
              "    <path d=\"M18.56 5.44l.94 2.06.94-2.06 2.06-.94-2.06-.94-.94-2.06-.94 2.06-2.06.94zm-11 1L8.5 8.5l.94-2.06 2.06-.94-2.06-.94L8.5 2.5l-.94 2.06-2.06.94zm10 10l.94 2.06.94-2.06 2.06-.94-2.06-.94-.94-2.06-.94 2.06-2.06.94z\"/><path d=\"M17.41 7.96l-1.37-1.37c-.4-.4-.92-.59-1.43-.59-.52 0-1.04.2-1.43.59L10.3 9.45l-7.72 7.72c-.78.78-.78 2.05 0 2.83L4 21.41c.39.39.9.59 1.41.59.51 0 1.02-.2 1.41-.59l7.78-7.78 2.81-2.81c.8-.78.8-2.07 0-2.86zM5.41 20L4 18.59l7.72-7.72 1.47 1.35L5.41 20z\"/>\n",
              "  </svg>\n",
              "      </button>\n",
              "      \n",
              "  <style>\n",
              "    .colab-df-container {\n",
              "      display:flex;\n",
              "      flex-wrap:wrap;\n",
              "      gap: 12px;\n",
              "    }\n",
              "\n",
              "    .colab-df-convert {\n",
              "      background-color: #E8F0FE;\n",
              "      border: none;\n",
              "      border-radius: 50%;\n",
              "      cursor: pointer;\n",
              "      display: none;\n",
              "      fill: #1967D2;\n",
              "      height: 32px;\n",
              "      padding: 0 0 0 0;\n",
              "      width: 32px;\n",
              "    }\n",
              "\n",
              "    .colab-df-convert:hover {\n",
              "      background-color: #E2EBFA;\n",
              "      box-shadow: 0px 1px 2px rgba(60, 64, 67, 0.3), 0px 1px 3px 1px rgba(60, 64, 67, 0.15);\n",
              "      fill: #174EA6;\n",
              "    }\n",
              "\n",
              "    [theme=dark] .colab-df-convert {\n",
              "      background-color: #3B4455;\n",
              "      fill: #D2E3FC;\n",
              "    }\n",
              "\n",
              "    [theme=dark] .colab-df-convert:hover {\n",
              "      background-color: #434B5C;\n",
              "      box-shadow: 0px 1px 3px 1px rgba(0, 0, 0, 0.15);\n",
              "      filter: drop-shadow(0px 1px 2px rgba(0, 0, 0, 0.3));\n",
              "      fill: #FFFFFF;\n",
              "    }\n",
              "  </style>\n",
              "\n",
              "      <script>\n",
              "        const buttonEl =\n",
              "          document.querySelector('#df-8a90e9de-6daa-4bec-91f8-1ae9f5ae387e button.colab-df-convert');\n",
              "        buttonEl.style.display =\n",
              "          google.colab.kernel.accessAllowed ? 'block' : 'none';\n",
              "\n",
              "        async function convertToInteractive(key) {\n",
              "          const element = document.querySelector('#df-8a90e9de-6daa-4bec-91f8-1ae9f5ae387e');\n",
              "          const dataTable =\n",
              "            await google.colab.kernel.invokeFunction('convertToInteractive',\n",
              "                                                     [key], {});\n",
              "          if (!dataTable) return;\n",
              "\n",
              "          const docLinkHtml = 'Like what you see? Visit the ' +\n",
              "            '<a target=\"_blank\" href=https://colab.research.google.com/notebooks/data_table.ipynb>data table notebook</a>'\n",
              "            + ' to learn more about interactive tables.';\n",
              "          element.innerHTML = '';\n",
              "          dataTable['output_type'] = 'display_data';\n",
              "          await google.colab.output.renderOutput(dataTable, element);\n",
              "          const docLink = document.createElement('div');\n",
              "          docLink.innerHTML = docLinkHtml;\n",
              "          element.appendChild(docLink);\n",
              "        }\n",
              "      </script>\n",
              "    </div>\n",
              "  </div>\n",
              "  "
            ]
          },
          "metadata": {},
          "execution_count": 4
        }
      ]
    },
    {
      "cell_type": "code",
      "source": [
        "data_df2 = pandas.read_csv('data.csv')\n",
        "data_df2"
      ],
      "metadata": {
        "colab": {
          "base_uri": "https://localhost:8080/",
          "height": 112
        },
        "id": "ayNXlxORLgS-",
        "outputId": "11cc46a4-4dbe-4d64-e6e5-5dd5511b2652"
      },
      "execution_count": 5,
      "outputs": [
        {
          "output_type": "execute_result",
          "data": {
            "text/plain": [
              "   car_id        \\tmodel  \\tyear  \\tvalue  \\tperson_id\n",
              "0     101      \\tbentley    1973   100000            1\n",
              "1     102  \\trolls royce    1965   330000            1"
            ],
            "text/html": [
              "\n",
              "  <div id=\"df-12d002c0-e322-44b3-8a48-cf8de1664626\">\n",
              "    <div class=\"colab-df-container\">\n",
              "      <div>\n",
              "<style scoped>\n",
              "    .dataframe tbody tr th:only-of-type {\n",
              "        vertical-align: middle;\n",
              "    }\n",
              "\n",
              "    .dataframe tbody tr th {\n",
              "        vertical-align: top;\n",
              "    }\n",
              "\n",
              "    .dataframe thead th {\n",
              "        text-align: right;\n",
              "    }\n",
              "</style>\n",
              "<table border=\"1\" class=\"dataframe\">\n",
              "  <thead>\n",
              "    <tr style=\"text-align: right;\">\n",
              "      <th></th>\n",
              "      <th>car_id</th>\n",
              "      <th>\\tmodel</th>\n",
              "      <th>\\tyear</th>\n",
              "      <th>\\tvalue</th>\n",
              "      <th>\\tperson_id</th>\n",
              "    </tr>\n",
              "  </thead>\n",
              "  <tbody>\n",
              "    <tr>\n",
              "      <th>0</th>\n",
              "      <td>101</td>\n",
              "      <td>\\tbentley</td>\n",
              "      <td>1973</td>\n",
              "      <td>100000</td>\n",
              "      <td>1</td>\n",
              "    </tr>\n",
              "    <tr>\n",
              "      <th>1</th>\n",
              "      <td>102</td>\n",
              "      <td>\\trolls royce</td>\n",
              "      <td>1965</td>\n",
              "      <td>330000</td>\n",
              "      <td>1</td>\n",
              "    </tr>\n",
              "  </tbody>\n",
              "</table>\n",
              "</div>\n",
              "      <button class=\"colab-df-convert\" onclick=\"convertToInteractive('df-12d002c0-e322-44b3-8a48-cf8de1664626')\"\n",
              "              title=\"Convert this dataframe to an interactive table.\"\n",
              "              style=\"display:none;\">\n",
              "        \n",
              "  <svg xmlns=\"http://www.w3.org/2000/svg\" height=\"24px\"viewBox=\"0 0 24 24\"\n",
              "       width=\"24px\">\n",
              "    <path d=\"M0 0h24v24H0V0z\" fill=\"none\"/>\n",
              "    <path d=\"M18.56 5.44l.94 2.06.94-2.06 2.06-.94-2.06-.94-.94-2.06-.94 2.06-2.06.94zm-11 1L8.5 8.5l.94-2.06 2.06-.94-2.06-.94L8.5 2.5l-.94 2.06-2.06.94zm10 10l.94 2.06.94-2.06 2.06-.94-2.06-.94-.94-2.06-.94 2.06-2.06.94z\"/><path d=\"M17.41 7.96l-1.37-1.37c-.4-.4-.92-.59-1.43-.59-.52 0-1.04.2-1.43.59L10.3 9.45l-7.72 7.72c-.78.78-.78 2.05 0 2.83L4 21.41c.39.39.9.59 1.41.59.51 0 1.02-.2 1.41-.59l7.78-7.78 2.81-2.81c.8-.78.8-2.07 0-2.86zM5.41 20L4 18.59l7.72-7.72 1.47 1.35L5.41 20z\"/>\n",
              "  </svg>\n",
              "      </button>\n",
              "      \n",
              "  <style>\n",
              "    .colab-df-container {\n",
              "      display:flex;\n",
              "      flex-wrap:wrap;\n",
              "      gap: 12px;\n",
              "    }\n",
              "\n",
              "    .colab-df-convert {\n",
              "      background-color: #E8F0FE;\n",
              "      border: none;\n",
              "      border-radius: 50%;\n",
              "      cursor: pointer;\n",
              "      display: none;\n",
              "      fill: #1967D2;\n",
              "      height: 32px;\n",
              "      padding: 0 0 0 0;\n",
              "      width: 32px;\n",
              "    }\n",
              "\n",
              "    .colab-df-convert:hover {\n",
              "      background-color: #E2EBFA;\n",
              "      box-shadow: 0px 1px 2px rgba(60, 64, 67, 0.3), 0px 1px 3px 1px rgba(60, 64, 67, 0.15);\n",
              "      fill: #174EA6;\n",
              "    }\n",
              "\n",
              "    [theme=dark] .colab-df-convert {\n",
              "      background-color: #3B4455;\n",
              "      fill: #D2E3FC;\n",
              "    }\n",
              "\n",
              "    [theme=dark] .colab-df-convert:hover {\n",
              "      background-color: #434B5C;\n",
              "      box-shadow: 0px 1px 3px 1px rgba(0, 0, 0, 0.15);\n",
              "      filter: drop-shadow(0px 1px 2px rgba(0, 0, 0, 0.3));\n",
              "      fill: #FFFFFF;\n",
              "    }\n",
              "  </style>\n",
              "\n",
              "      <script>\n",
              "        const buttonEl =\n",
              "          document.querySelector('#df-12d002c0-e322-44b3-8a48-cf8de1664626 button.colab-df-convert');\n",
              "        buttonEl.style.display =\n",
              "          google.colab.kernel.accessAllowed ? 'block' : 'none';\n",
              "\n",
              "        async function convertToInteractive(key) {\n",
              "          const element = document.querySelector('#df-12d002c0-e322-44b3-8a48-cf8de1664626');\n",
              "          const dataTable =\n",
              "            await google.colab.kernel.invokeFunction('convertToInteractive',\n",
              "                                                     [key], {});\n",
              "          if (!dataTable) return;\n",
              "\n",
              "          const docLinkHtml = 'Like what you see? Visit the ' +\n",
              "            '<a target=\"_blank\" href=https://colab.research.google.com/notebooks/data_table.ipynb>data table notebook</a>'\n",
              "            + ' to learn more about interactive tables.';\n",
              "          element.innerHTML = '';\n",
              "          dataTable['output_type'] = 'display_data';\n",
              "          await google.colab.output.renderOutput(dataTable, element);\n",
              "          const docLink = document.createElement('div');\n",
              "          docLink.innerHTML = docLinkHtml;\n",
              "          element.appendChild(docLink);\n",
              "        }\n",
              "      </script>\n",
              "    </div>\n",
              "  </div>\n",
              "  "
            ]
          },
          "metadata": {},
          "execution_count": 5
        }
      ]
    },
    {
      "cell_type": "markdown",
      "source": [
        "การเขียนคำสั่ง จะแยกหรือทำหลายบรรทัดใน box เดียวก็ได้\n",
        "\n",
        "ถ้าทำหลายบรรทัดใน box เดียว การรันก็จะไล่ทีละบรรทัดจากบนลงล่าง\n",
        "\n",
        "ถ้าทำคนละ box การรันขึ้นอยู่กับว่าจะกดรัน box ไหนก่อน โดยจะขึ้นเป็นลำดับตัวเลข"
      ],
      "metadata": {
        "id": "aQjFXTPFMZCW"
      }
    },
    {
      "cell_type": "markdown",
      "source": [
        "pd.read_csv('---.csv') : จาก package pandas ใช้คำสั่ง read.csv ในการเปิดไฟล์ที่ชื่อว่า ---.csv"
      ],
      "metadata": {
        "id": "DNNE-5F2Muha"
      }
    },
    {
      "cell_type": "markdown",
      "source": [
        "***"
      ],
      "metadata": {
        "id": "ohmIBu8FvOFh"
      }
    },
    {
      "cell_type": "markdown",
      "source": [
        "# Basic Python"
      ],
      "metadata": {
        "id": "u0VIKCTNvTkP"
      }
    },
    {
      "cell_type": "markdown",
      "source": [
        "## Variable"
      ],
      "metadata": {
        "id": "ovZx6pvivcJG"
      }
    },
    {
      "cell_type": "markdown",
      "source": [
        "ข้อกำหนดในการตั้งชื่อตัวแปร\n",
        "1. ชื่อห้ามมีเว้นวรรค\n",
        "2. (พยายาม)ใช้ภาษาอังกฤษ\n",
        "3. พิมพ์เล็กกับพิมพ์ใหญ่แตกต่างกัน\n",
        "4. ห้ามใช้ตัวเลขเป็นตัวหน้า"
      ],
      "metadata": {
        "id": "qF05TiuMvwre"
      }
    },
    {
      "cell_type": "code",
      "source": [
        "variable_a = 12                               #ตัวอย่างการตั้งตัวแปร โดยตัวแปรนั้นจะเป็นประเภทไหนก็ได้: int, float, str, etc.\n",
        "variable_b = 3.14\n",
        "variable_c = 'A'    # ' (quote) หรือ \" (double quote) เป็นการเก็บค่า string: ตัวอักษร\n",
        "variable_d = 'MSc Stat KKU'"
      ],
      "metadata": {
        "id": "A9zLvkUBvamk"
      },
      "execution_count": 6,
      "outputs": []
    },
    {
      "cell_type": "code",
      "source": [
        "variable_e = '11'"
      ],
      "metadata": {
        "id": "VNngnqgx0lZ0"
      },
      "execution_count": 7,
      "outputs": []
    },
    {
      "cell_type": "code",
      "source": [
        "variable a = 12  #ข้อกำหนดข้อ 1 : เว้นวรรคแล้วจะใช้ไม่ได้"
      ],
      "metadata": {
        "id": "1WY80KzuwNji",
        "outputId": "ceeb2c3b-84db-48c2-c0d5-ecf75df30abc",
        "colab": {
          "base_uri": "https://localhost:8080/",
          "height": 132
        }
      },
      "execution_count": 8,
      "outputs": [
        {
          "output_type": "error",
          "ename": "SyntaxError",
          "evalue": "ignored",
          "traceback": [
            "\u001b[0;36m  File \u001b[0;32m\"<ipython-input-8-4d185936998e>\"\u001b[0;36m, line \u001b[0;32m1\u001b[0m\n\u001b[0;31m    variable a = 12  #ข้อกำหนดข้อ 1 : เว้นวรรคแล้วจะใช้ไม่ได้\u001b[0m\n\u001b[0m             ^\u001b[0m\n\u001b[0;31mSyntaxError\u001b[0m\u001b[0;31m:\u001b[0m invalid syntax\n"
          ]
        }
      ]
    },
    {
      "cell_type": "code",
      "source": [
        "ตัวแปรเอ = 12  #ข้อกำหนดข้อ 2 : ใช้ภาษาไทยได้ แต่พยายามใช้อังกฤษดีกว่า"
      ],
      "metadata": {
        "id": "PuADOynRwTG7"
      },
      "execution_count": 9,
      "outputs": []
    },
    {
      "cell_type": "code",
      "source": [
        "ตัวแปรเอ"
      ],
      "metadata": {
        "id": "eK9hkBxcwVXn",
        "outputId": "fd85c9ea-79d8-4711-f495-94a0790eeb42",
        "colab": {
          "base_uri": "https://localhost:8080/"
        }
      },
      "execution_count": 10,
      "outputs": [
        {
          "output_type": "execute_result",
          "data": {
            "text/plain": [
              "12"
            ]
          },
          "metadata": {},
          "execution_count": 10
        }
      ]
    },
    {
      "cell_type": "code",
      "source": [
        "Cat = 1   #ข้อกำหนดข้อ 3 : แยกดีๆ พิมพ์เล็กพิมพ์ใหญ่\n",
        "cat = 2"
      ],
      "metadata": {
        "id": "JAez67V3wXgF"
      },
      "execution_count": 11,
      "outputs": []
    },
    {
      "cell_type": "code",
      "source": [
        "Cat"
      ],
      "metadata": {
        "id": "kHLtDkXawa0D",
        "outputId": "cb4e49db-0304-4a21-e442-b7e230157ccd",
        "colab": {
          "base_uri": "https://localhost:8080/"
        }
      },
      "execution_count": 12,
      "outputs": [
        {
          "output_type": "execute_result",
          "data": {
            "text/plain": [
              "1"
            ]
          },
          "metadata": {},
          "execution_count": 12
        }
      ]
    },
    {
      "cell_type": "code",
      "source": [
        "cat1 = 2\n",
        "cat1"
      ],
      "metadata": {
        "id": "OGsHoyUnwb9G",
        "outputId": "0ada8d86-3532-4a31-b75f-6c6fff62aa50",
        "colab": {
          "base_uri": "https://localhost:8080/"
        }
      },
      "execution_count": 13,
      "outputs": [
        {
          "output_type": "execute_result",
          "data": {
            "text/plain": [
              "2"
            ]
          },
          "metadata": {},
          "execution_count": 13
        }
      ]
    },
    {
      "cell_type": "code",
      "source": [
        "1cat = 2   #ข้อกำหนดข้อ 4 : ตัวเลขอยู่ข้างหน้าสุดไม่ได้"
      ],
      "metadata": {
        "id": "8zpFywn0wuAU",
        "outputId": "5b5adf1b-bce1-4876-be9e-42166e4fb26c",
        "colab": {
          "base_uri": "https://localhost:8080/",
          "height": 132
        }
      },
      "execution_count": 14,
      "outputs": [
        {
          "output_type": "error",
          "ename": "SyntaxError",
          "evalue": "ignored",
          "traceback": [
            "\u001b[0;36m  File \u001b[0;32m\"<ipython-input-14-b44bb37381c4>\"\u001b[0;36m, line \u001b[0;32m1\u001b[0m\n\u001b[0;31m    1cat = 2   #ข้อกำหนดข้อ 4 : ตัวเลขอยู่ข้างหน้าสุดไม่ได้\u001b[0m\n\u001b[0m       ^\u001b[0m\n\u001b[0;31mSyntaxError\u001b[0m\u001b[0;31m:\u001b[0m invalid syntax\n"
          ]
        }
      ]
    },
    {
      "cell_type": "markdown",
      "source": [
        "เมื่อเขียนตัวแปร เช่น variable_a = 12 หลังจากรันจะไม่มีการแสดงผล (ผลลัพธ์ถูกเก็บใน memory ของโปรแกรม)\n",
        "\n",
        "ถ้าอยากให้แสดง ต้องใช้คำสั่ง print(variable_a) [[ แต่ใน colab สามารถเขียนแค่ variable_a ได้ ]]"
      ],
      "metadata": {
        "id": "xkKh3e5lx1v4"
      }
    },
    {
      "cell_type": "code",
      "source": [
        "print(cat1)"
      ],
      "metadata": {
        "id": "NLB38JpjwwPp",
        "outputId": "b313fe52-efd2-41d1-c778-e22cfbf928b6",
        "colab": {
          "base_uri": "https://localhost:8080/"
        }
      },
      "execution_count": 15,
      "outputs": [
        {
          "output_type": "stream",
          "name": "stdout",
          "text": [
            "2\n"
          ]
        }
      ]
    },
    {
      "cell_type": "code",
      "source": [
        "variable_x = variable_a + variable_b"
      ],
      "metadata": {
        "id": "z0JaARn6ygb4"
      },
      "execution_count": 16,
      "outputs": []
    },
    {
      "cell_type": "code",
      "source": [
        "variable_x"
      ],
      "metadata": {
        "id": "TiP11N00y58k",
        "outputId": "27645662-ca48-4996-99d6-84c90694a922",
        "colab": {
          "base_uri": "https://localhost:8080/"
        }
      },
      "execution_count": 17,
      "outputs": [
        {
          "output_type": "execute_result",
          "data": {
            "text/plain": [
              "15.14"
            ]
          },
          "metadata": {},
          "execution_count": 17
        }
      ]
    },
    {
      "cell_type": "code",
      "source": [
        "variable_a + variable_b       # อยากได้ผลบวกเฉยๆ เขียนแบบนี้ก็ได้ แต่จะนำไปใช้ต่อไม่ได้ เพราะไม่มีตัวแปรมาเก็บค่า"
      ],
      "metadata": {
        "id": "4zqIHGhLzClL",
        "outputId": "36b37c6d-fa12-4be5-fa49-f3f6a8f6667f",
        "colab": {
          "base_uri": "https://localhost:8080/"
        }
      },
      "execution_count": 18,
      "outputs": [
        {
          "output_type": "execute_result",
          "data": {
            "text/plain": [
              "15.14"
            ]
          },
          "metadata": {},
          "execution_count": 18
        }
      ]
    },
    {
      "cell_type": "code",
      "source": [
        "variable_x = variable_a + variable_b + 5\n",
        "print(variable_x)"
      ],
      "metadata": {
        "id": "boO8XtlDzE0k",
        "outputId": "401ea35b-e89a-4bfc-9f5f-1fadeb17cd04",
        "colab": {
          "base_uri": "https://localhost:8080/"
        }
      },
      "execution_count": 19,
      "outputs": [
        {
          "output_type": "stream",
          "name": "stdout",
          "text": [
            "20.14\n"
          ]
        }
      ]
    },
    {
      "cell_type": "code",
      "source": [
        "variable_z = variable_a\n",
        "print(variable_z)"
      ],
      "metadata": {
        "id": "J1p-0sUFzaE6",
        "outputId": "b75fff91-a72a-4b1e-ec92-e0a2168715f1",
        "colab": {
          "base_uri": "https://localhost:8080/"
        }
      },
      "execution_count": 20,
      "outputs": [
        {
          "output_type": "stream",
          "name": "stdout",
          "text": [
            "12\n"
          ]
        }
      ]
    },
    {
      "cell_type": "code",
      "source": [
        "variable_a = variable_a + 3\n",
        "\n",
        "print(variable_a)\n",
        "print(variable_z)"
      ],
      "metadata": {
        "id": "ix8z9bhCzrQu",
        "outputId": "0cf39f5a-a652-4bea-e5a5-49fe14095bf6",
        "colab": {
          "base_uri": "https://localhost:8080/"
        }
      },
      "execution_count": 21,
      "outputs": [
        {
          "output_type": "stream",
          "name": "stdout",
          "text": [
            "15\n",
            "12\n"
          ]
        }
      ]
    },
    {
      "cell_type": "code",
      "source": [
        "variable_a + variable_e   # ไม่สามารถบวก ตัวเลข กับ ตัวอักษร ได้ !"
      ],
      "metadata": {
        "id": "yp6o5vgDzuEu",
        "outputId": "aec0a930-d211-4c3a-b9a6-67bbed98a428",
        "colab": {
          "base_uri": "https://localhost:8080/",
          "height": 166
        }
      },
      "execution_count": 22,
      "outputs": [
        {
          "output_type": "error",
          "ename": "TypeError",
          "evalue": "ignored",
          "traceback": [
            "\u001b[0;31m---------------------------------------------------------------------------\u001b[0m",
            "\u001b[0;31mTypeError\u001b[0m                                 Traceback (most recent call last)",
            "\u001b[0;32m<ipython-input-22-0c85403fe197>\u001b[0m in \u001b[0;36m<module>\u001b[0;34m()\u001b[0m\n\u001b[0;32m----> 1\u001b[0;31m \u001b[0mvariable_a\u001b[0m \u001b[0;34m+\u001b[0m \u001b[0mvariable_e\u001b[0m   \u001b[0;31m# ไม่สามารถบวก ตัวเลข กับ ตัวอักษร ได้ !\u001b[0m\u001b[0;34m\u001b[0m\u001b[0;34m\u001b[0m\u001b[0m\n\u001b[0m",
            "\u001b[0;31mTypeError\u001b[0m: unsupported operand type(s) for +: 'int' and 'str'"
          ]
        }
      ]
    },
    {
      "cell_type": "code",
      "source": [
        "variable_e + variable_a   # ไม่สามารถเอาตัวเลขมาต่อตัวอักษรได้"
      ],
      "metadata": {
        "id": "zWy1xLvP0y3a",
        "outputId": "f60ffe29-4909-4be4-99f6-28bc7697a221",
        "colab": {
          "base_uri": "https://localhost:8080/",
          "height": 166
        }
      },
      "execution_count": 23,
      "outputs": [
        {
          "output_type": "error",
          "ename": "TypeError",
          "evalue": "ignored",
          "traceback": [
            "\u001b[0;31m---------------------------------------------------------------------------\u001b[0m",
            "\u001b[0;31mTypeError\u001b[0m                                 Traceback (most recent call last)",
            "\u001b[0;32m<ipython-input-23-67fb8492d120>\u001b[0m in \u001b[0;36m<module>\u001b[0;34m()\u001b[0m\n\u001b[0;32m----> 1\u001b[0;31m \u001b[0mvariable_e\u001b[0m \u001b[0;34m+\u001b[0m \u001b[0mvariable_a\u001b[0m   \u001b[0;31m# ไม่สามารถเอาตัวเลขมาต่อตัวอักษรได้\u001b[0m\u001b[0;34m\u001b[0m\u001b[0;34m\u001b[0m\u001b[0m\n\u001b[0m",
            "\u001b[0;31mTypeError\u001b[0m: can only concatenate str (not \"int\") to str"
          ]
        }
      ]
    },
    {
      "cell_type": "markdown",
      "source": [
        "เวลาเช็ก error มักจะอ่านจากบรรทัดสุดท้าย (TypeError)"
      ],
      "metadata": {
        "id": "Y1kUfcNG1RM8"
      }
    },
    {
      "cell_type": "code",
      "source": [
        "variable_c + variable_d   # str ต่อกับ str ได้ โดยจะนำตัวอักษรมาต่อกัน (ไม่มีเว้นวรรค)"
      ],
      "metadata": {
        "id": "lMy7r4sf1NOW",
        "outputId": "71f998a7-37df-4d90-ac73-1a28d6cdbf9f",
        "colab": {
          "base_uri": "https://localhost:8080/",
          "height": 34
        }
      },
      "execution_count": 25,
      "outputs": [
        {
          "output_type": "execute_result",
          "data": {
            "text/plain": [
              "'AMSc Stat KKU'"
            ],
            "application/vnd.google.colaboratory.intrinsic+json": {
              "type": "string"
            }
          },
          "metadata": {},
          "execution_count": 25
        }
      ]
    },
    {
      "cell_type": "markdown",
      "source": [
        "** Casting int() float() str()\n",
        "\n",
        "คือ คำสั่งเปลี่ยนชนิดของตัวแปร"
      ],
      "metadata": {
        "id": "MbNff-TZ17bk"
      }
    },
    {
      "cell_type": "code",
      "source": [
        "variable_a + int(variable_e)"
      ],
      "metadata": {
        "id": "httA8qZz12zD",
        "outputId": "1ca0947d-c46c-4ac7-e67a-3398a1809036",
        "colab": {
          "base_uri": "https://localhost:8080/"
        }
      },
      "execution_count": 26,
      "outputs": [
        {
          "output_type": "execute_result",
          "data": {
            "text/plain": [
              "26"
            ]
          },
          "metadata": {},
          "execution_count": 26
        }
      ]
    },
    {
      "cell_type": "code",
      "source": [
        "variable_e + str(variable_a)"
      ],
      "metadata": {
        "id": "QVRZ4j4w3Dk9",
        "outputId": "b8654684-65ec-45cb-88c7-c35ab79eac36",
        "colab": {
          "base_uri": "https://localhost:8080/",
          "height": 34
        }
      },
      "execution_count": 27,
      "outputs": [
        {
          "output_type": "execute_result",
          "data": {
            "text/plain": [
              "'1115'"
            ],
            "application/vnd.google.colaboratory.intrinsic+json": {
              "type": "string"
            }
          },
          "metadata": {},
          "execution_count": 27
        }
      ]
    },
    {
      "cell_type": "code",
      "source": [
        "variable_e                  # แสดงให้เห็นว่าสิ่งที่เก็บใน memory มีหน้าตาเป็นยังไง"
      ],
      "metadata": {
        "id": "cDZgEvUV3HD8",
        "outputId": "34932c28-49d9-4276-aa11-98df98f24519",
        "colab": {
          "base_uri": "https://localhost:8080/",
          "height": 34
        }
      },
      "execution_count": 28,
      "outputs": [
        {
          "output_type": "execute_result",
          "data": {
            "text/plain": [
              "'11'"
            ],
            "application/vnd.google.colaboratory.intrinsic+json": {
              "type": "string"
            }
          },
          "metadata": {},
          "execution_count": 28
        }
      ]
    },
    {
      "cell_type": "code",
      "source": [
        "print(variable_e)         # แสดงค่าออกมาให้ดู -> ไม่รู้ว่าตัวแปรเป็นประเภทอะไร"
      ],
      "metadata": {
        "id": "Ic5Z_q3j3g07",
        "outputId": "8b01de95-dffb-43b0-b6eb-2c9704e7e3b1",
        "colab": {
          "base_uri": "https://localhost:8080/"
        }
      },
      "execution_count": 29,
      "outputs": [
        {
          "output_type": "stream",
          "name": "stdout",
          "text": [
            "11\n"
          ]
        }
      ]
    },
    {
      "cell_type": "markdown",
      "source": [
        "** type()\n",
        "\n",
        "คือ คำสั่งตรวจสอบชนิดของตัวแปร"
      ],
      "metadata": {
        "id": "ZJnNzWoP4YN_"
      }
    },
    {
      "cell_type": "code",
      "source": [
        "type(variable_a)"
      ],
      "metadata": {
        "id": "nJNEB2nN4iLm",
        "outputId": "35e43a57-2a9d-4d33-889e-d6e69b77a578",
        "colab": {
          "base_uri": "https://localhost:8080/"
        }
      },
      "execution_count": 30,
      "outputs": [
        {
          "output_type": "execute_result",
          "data": {
            "text/plain": [
              "int"
            ]
          },
          "metadata": {},
          "execution_count": 30
        }
      ]
    },
    {
      "cell_type": "code",
      "source": [
        "type(variable_e)"
      ],
      "metadata": {
        "id": "eg6wdL_r3jRA",
        "outputId": "9476f500-16da-464c-add0-300ca5377f74",
        "colab": {
          "base_uri": "https://localhost:8080/"
        }
      },
      "execution_count": 31,
      "outputs": [
        {
          "output_type": "execute_result",
          "data": {
            "text/plain": [
              "str"
            ]
          },
          "metadata": {},
          "execution_count": 31
        }
      ]
    },
    {
      "cell_type": "markdown",
      "source": [
        "## Data Structure"
      ],
      "metadata": {
        "id": "nfVWALDb4pJJ"
      }
    },
    {
      "cell_type": "markdown",
      "source": [
        "### list \n",
        ": การเอาตัวแปรมาผูกต่อกันไปเรื่อยๆ\n",
        "\n",
        ": สนใจลำดับ\n",
        "\n",
        ": สร้างโดยการใส่ square brackets [ ]"
      ],
      "metadata": {
        "id": "I__A3zp94uTF"
      }
    },
    {
      "cell_type": "code",
      "source": [
        "list_a = [1, 2, 3, 0.9, 'aaz', variable_b] "
      ],
      "metadata": {
        "id": "02EIU4Bw4UJF"
      },
      "execution_count": 32,
      "outputs": []
    },
    {
      "cell_type": "code",
      "source": [
        "list_a"
      ],
      "metadata": {
        "id": "aTPtuCcn5EDM",
        "outputId": "d3a4e99a-f6f8-46e3-f808-bce33600b610",
        "colab": {
          "base_uri": "https://localhost:8080/"
        }
      },
      "execution_count": 33,
      "outputs": [
        {
          "output_type": "execute_result",
          "data": {
            "text/plain": [
              "[1, 2, 3, 0.9, 'aaz', 3.14]"
            ]
          },
          "metadata": {},
          "execution_count": 33
        }
      ]
    },
    {
      "cell_type": "markdown",
      "source": [
        "indexing: การชี้ตัวที่อยู่ใน list สามารถเขียนได้ทั้งนับจากด้านหน้าและด้านหลัง \n",
        "1. index: นับจากด้านหน้า ตัวแรกจะเป็นลำดับที่ 0 > 1 > ...\n",
        "2. negative index: นับจากด้านหลัง ตัวสุดท้ายจะเป็นลำดับที่ -1 < -2 < ..."
      ],
      "metadata": {
        "id": "EjvOR3E45aVA"
      }
    },
    {
      "cell_type": "code",
      "source": [
        "list_a[5]"
      ],
      "metadata": {
        "id": "Ev2EDGmi5U9-",
        "outputId": "97825625-fb4d-4365-c73a-74767b21f189",
        "colab": {
          "base_uri": "https://localhost:8080/"
        }
      },
      "execution_count": 34,
      "outputs": [
        {
          "output_type": "execute_result",
          "data": {
            "text/plain": [
              "3.14"
            ]
          },
          "metadata": {},
          "execution_count": 34
        }
      ]
    },
    {
      "cell_type": "code",
      "source": [
        "list_a[0]"
      ],
      "metadata": {
        "id": "-_fMw0y15jLP",
        "outputId": "a6253307-8cc8-4d85-b2da-283138af8576",
        "colab": {
          "base_uri": "https://localhost:8080/"
        }
      },
      "execution_count": 35,
      "outputs": [
        {
          "output_type": "execute_result",
          "data": {
            "text/plain": [
              "1"
            ]
          },
          "metadata": {},
          "execution_count": 35
        }
      ]
    },
    {
      "cell_type": "code",
      "source": [
        "list_a[-2]"
      ],
      "metadata": {
        "id": "kUvHZJJ55nYD",
        "outputId": "b497137e-2d18-4b7c-d4f1-5479d114f0c6",
        "colab": {
          "base_uri": "https://localhost:8080/",
          "height": 34
        }
      },
      "execution_count": 36,
      "outputs": [
        {
          "output_type": "execute_result",
          "data": {
            "text/plain": [
              "'aaz'"
            ],
            "application/vnd.google.colaboratory.intrinsic+json": {
              "type": "string"
            }
          },
          "metadata": {},
          "execution_count": 36
        }
      ]
    },
    {
      "cell_type": "code",
      "source": [
        "list_b = ['pizza', list_a]      # list จะเก็บค่าอะไรก็ได้\n",
        "list_b"
      ],
      "metadata": {
        "id": "X1MkvJZc5p6n",
        "outputId": "4efcfc9a-afe8-4043-88f2-c02d425956e8",
        "colab": {
          "base_uri": "https://localhost:8080/"
        }
      },
      "execution_count": 37,
      "outputs": [
        {
          "output_type": "execute_result",
          "data": {
            "text/plain": [
              "['pizza', [1, 2, 3, 0.9, 'aaz', 3.14]]"
            ]
          },
          "metadata": {},
          "execution_count": 37
        }
      ]
    },
    {
      "cell_type": "code",
      "source": [
        "list_b[1][3]                      # การชี้ index ของ list ซ้อน list ให้ใส่ [] ซ้อนไปเรื่อยๆ"
      ],
      "metadata": {
        "id": "vQLoi9Bh6ZsR",
        "outputId": "76c88a17-1337-4a65-f93f-7347cc3a1cab",
        "colab": {
          "base_uri": "https://localhost:8080/"
        }
      },
      "execution_count": 38,
      "outputs": [
        {
          "output_type": "execute_result",
          "data": {
            "text/plain": [
              "0.9"
            ]
          },
          "metadata": {},
          "execution_count": 38
        }
      ]
    },
    {
      "cell_type": "markdown",
      "source": [
        "string คือ list ของตัวอักษร"
      ],
      "metadata": {
        "id": "DkzCIo0c6zbV"
      }
    },
    {
      "cell_type": "code",
      "source": [
        "x = 'shabu'\n",
        "x[3]"
      ],
      "metadata": {
        "id": "PX1Lo2Rc6eC7",
        "outputId": "25433b6a-deaf-4cc4-debf-809e8b797771",
        "colab": {
          "base_uri": "https://localhost:8080/",
          "height": 34
        }
      },
      "execution_count": 39,
      "outputs": [
        {
          "output_type": "execute_result",
          "data": {
            "text/plain": [
              "'b'"
            ],
            "application/vnd.google.colaboratory.intrinsic+json": {
              "type": "string"
            }
          },
          "metadata": {},
          "execution_count": 39
        }
      ]
    },
    {
      "cell_type": "code",
      "source": [
        "print(list_a)\n",
        "print(list_b)"
      ],
      "metadata": {
        "id": "Sfxf3fdt65K7",
        "outputId": "efd5ae20-da70-4d9a-f18f-38a043f31ed2",
        "colab": {
          "base_uri": "https://localhost:8080/"
        }
      },
      "execution_count": 40,
      "outputs": [
        {
          "output_type": "stream",
          "name": "stdout",
          "text": [
            "[1, 2, 3, 0.9, 'aaz', 3.14]\n",
            "['pizza', [1, 2, 3, 0.9, 'aaz', 3.14]]\n"
          ]
        }
      ]
    },
    {
      "cell_type": "code",
      "source": [
        "list_a + list_b"
      ],
      "metadata": {
        "id": "vl0byE_k7Jvb",
        "outputId": "d6dc75ad-06ee-4ba6-c4d9-7cc6ac550ae1",
        "colab": {
          "base_uri": "https://localhost:8080/"
        }
      },
      "execution_count": 41,
      "outputs": [
        {
          "output_type": "execute_result",
          "data": {
            "text/plain": [
              "[1, 2, 3, 0.9, 'aaz', 3.14, 'pizza', [1, 2, 3, 0.9, 'aaz', 3.14]]"
            ]
          },
          "metadata": {},
          "execution_count": 41
        }
      ]
    },
    {
      "cell_type": "markdown",
      "source": [
        "***\n",
        "การสร้าง list ( ในกรณีที่ list ยาว การสร้างจะซับซ้อนกว่าใส่แค่ [ ] )\n",
        "1. สร้าง list ว่าง : กำหนดตัวแปร = [ ]  /  กำหนดตัวแปร = list( )\n",
        "2. เพิ่มสมาชิกลงไปใน list"
      ],
      "metadata": {
        "id": "wuYHYFrb7YiH"
      }
    },
    {
      "cell_type": "markdown",
      "source": [
        "1. การสร้าง list ว่าง"
      ],
      "metadata": {
        "id": "QNSfHsQE8MSA"
      }
    },
    {
      "cell_type": "code",
      "source": [
        "list_aa = []\n",
        "list_aa"
      ],
      "metadata": {
        "id": "YrXWxbgb7Lst",
        "outputId": "ef759379-4b7a-4cfd-8fab-c7d1549c0efd",
        "colab": {
          "base_uri": "https://localhost:8080/"
        }
      },
      "execution_count": 42,
      "outputs": [
        {
          "output_type": "execute_result",
          "data": {
            "text/plain": [
              "[]"
            ]
          },
          "metadata": {},
          "execution_count": 42
        }
      ]
    },
    {
      "cell_type": "code",
      "source": [
        "list_bb = list()\n",
        "print(list_bb)"
      ],
      "metadata": {
        "id": "NIHXmSP574kx",
        "outputId": "956dd084-e06d-447b-e879-4873a49bff36",
        "colab": {
          "base_uri": "https://localhost:8080/"
        }
      },
      "execution_count": 43,
      "outputs": [
        {
          "output_type": "stream",
          "name": "stdout",
          "text": [
            "[]\n"
          ]
        }
      ]
    },
    {
      "cell_type": "markdown",
      "source": [
        "2. การเพิ่มสมาชิกลงไปใน list ( .append( ) )"
      ],
      "metadata": {
        "id": "H7PGFMOn8ON9"
      }
    },
    {
      "cell_type": "code",
      "source": [
        "list_aa.append('chiken')\n",
        "list_aa.append('water')\n",
        "list_aa.append('vegetable')"
      ],
      "metadata": {
        "id": "ICytsVnz78OK"
      },
      "execution_count": 44,
      "outputs": []
    },
    {
      "cell_type": "code",
      "source": [
        "list_aa"
      ],
      "metadata": {
        "id": "3dis97jX8hMk",
        "outputId": "de982cab-442d-49a6-c20a-2a24fa7dbee5",
        "colab": {
          "base_uri": "https://localhost:8080/"
        }
      },
      "execution_count": 45,
      "outputs": [
        {
          "output_type": "execute_result",
          "data": {
            "text/plain": [
              "['chiken', 'water', 'vegetable']"
            ]
          },
          "metadata": {},
          "execution_count": 45
        }
      ]
    },
    {
      "cell_type": "code",
      "source": [
        "list_aa[-1]"
      ],
      "metadata": {
        "id": "wzwIMFv_8iac",
        "outputId": "b4586277-0d40-4645-9623-ca75099d73e0",
        "colab": {
          "base_uri": "https://localhost:8080/",
          "height": 34
        }
      },
      "execution_count": 46,
      "outputs": [
        {
          "output_type": "execute_result",
          "data": {
            "text/plain": [
              "'vegetable'"
            ],
            "application/vnd.google.colaboratory.intrinsic+json": {
              "type": "string"
            }
          },
          "metadata": {},
          "execution_count": 46
        }
      ]
    },
    {
      "cell_type": "code",
      "source": [
        "list_aa.append('plate')"
      ],
      "metadata": {
        "id": "nWj4oB8V8sE5"
      },
      "execution_count": 47,
      "outputs": []
    },
    {
      "cell_type": "code",
      "source": [
        "list_aa[-2]"
      ],
      "metadata": {
        "id": "PZKOaA1P89P0",
        "outputId": "5f31272a-c869-4e2d-83c6-e5974262ebf1",
        "colab": {
          "base_uri": "https://localhost:8080/",
          "height": 34
        }
      },
      "execution_count": 48,
      "outputs": [
        {
          "output_type": "execute_result",
          "data": {
            "text/plain": [
              "'vegetable'"
            ],
            "application/vnd.google.colaboratory.intrinsic+json": {
              "type": "string"
            }
          },
          "metadata": {},
          "execution_count": 48
        }
      ]
    },
    {
      "cell_type": "markdown",
      "source": [
        "### list slicing\n",
        "\n",
        ": (colon)\n",
        "\n",
        "ตัด list มาเฉพาะส่วนที่ต้องการ โดยเอาตั้งแต่ [ตัวหน้า:ตัวก่อนตัวหลัง]\n",
        "\n",
        "ถ้าเขียนตามสัญลักษณ์คณิตศาสตร์ จะได้เป็น [ตัวหน้า:ตัวหลัง)"
      ],
      "metadata": {
        "id": "hSS1o4yI9EmT"
      }
    },
    {
      "cell_type": "code",
      "source": [
        "list_aa"
      ],
      "metadata": {
        "id": "vSX6ERI_9BGk",
        "outputId": "41e13629-6277-463e-a9d7-e1220ff60ff7",
        "colab": {
          "base_uri": "https://localhost:8080/"
        }
      },
      "execution_count": 49,
      "outputs": [
        {
          "output_type": "execute_result",
          "data": {
            "text/plain": [
              "['chiken', 'water', 'vegetable', 'plate']"
            ]
          },
          "metadata": {},
          "execution_count": 49
        }
      ]
    },
    {
      "cell_type": "code",
      "source": [
        "list_aa[1:3]        # ตัด list_aa จากตัวที่ 1 ถึงตัวก่อนตัวที่ 3 (= ตัวที่ 2)"
      ],
      "metadata": {
        "id": "dCN5cMt09TEX",
        "outputId": "b933c593-613e-4117-e8a6-2ea6bc086a69",
        "colab": {
          "base_uri": "https://localhost:8080/"
        }
      },
      "execution_count": 50,
      "outputs": [
        {
          "output_type": "execute_result",
          "data": {
            "text/plain": [
              "['water', 'vegetable']"
            ]
          },
          "metadata": {},
          "execution_count": 50
        }
      ]
    },
    {
      "cell_type": "markdown",
      "source": [
        "***\n",
        "Quiz 1\n",
        "\n",
        " ตัดส่วนของ list ต่อไปนี้ จาก list_aa\n",
        " 1. 'iken'\n",
        " 2. 'get'\n",
        " 3. 'tab'"
      ],
      "metadata": {
        "id": "kif_-dXQ-Rsv"
      }
    },
    {
      "cell_type": "code",
      "source": [
        "# ข้อ 1\n",
        "list_aa[0][2:6]"
      ],
      "metadata": {
        "id": "vrgfTU-39bXM",
        "outputId": "cd2f87da-6f11-4e61-8ec6-69d82253e234",
        "colab": {
          "base_uri": "https://localhost:8080/",
          "height": 34
        }
      },
      "execution_count": 52,
      "outputs": [
        {
          "output_type": "execute_result",
          "data": {
            "text/plain": [
              "'iken'"
            ],
            "application/vnd.google.colaboratory.intrinsic+json": {
              "type": "string"
            }
          },
          "metadata": {},
          "execution_count": 52
        }
      ]
    },
    {
      "cell_type": "code",
      "source": [
        "# ข้อ 2\n",
        "list_aa[2][2:5]"
      ],
      "metadata": {
        "id": "yU6mo6yj_lAK",
        "outputId": "03b53a51-f539-4e7d-efd7-9376a8a6d723",
        "colab": {
          "base_uri": "https://localhost:8080/",
          "height": 34
        }
      },
      "execution_count": 54,
      "outputs": [
        {
          "output_type": "execute_result",
          "data": {
            "text/plain": [
              "'get'"
            ],
            "application/vnd.google.colaboratory.intrinsic+json": {
              "type": "string"
            }
          },
          "metadata": {},
          "execution_count": 54
        }
      ]
    },
    {
      "cell_type": "code",
      "source": [
        "# ข้อ 3\n",
        "list_aa[2][4:7]"
      ],
      "metadata": {
        "id": "iCSGWwS0_sGH",
        "outputId": "d49f866d-8bd3-411f-9819-9bbe9c29c6b7",
        "colab": {
          "base_uri": "https://localhost:8080/",
          "height": 34
        }
      },
      "execution_count": 56,
      "outputs": [
        {
          "output_type": "execute_result",
          "data": {
            "text/plain": [
              "'tab'"
            ],
            "application/vnd.google.colaboratory.intrinsic+json": {
              "type": "string"
            }
          },
          "metadata": {},
          "execution_count": 56
        }
      ]
    },
    {
      "cell_type": "code",
      "source": [
        ""
      ],
      "metadata": {
        "id": "33VcvM1w_wvQ"
      },
      "execution_count": null,
      "outputs": []
    }
  ]
}