{
  "nbformat": 4,
  "nbformat_minor": 0,
  "metadata": {
    "colab": {
      "name": "Quiz1.ipynb",
      "provenance": [],
      "authorship_tag": "ABX9TyOPjX0WpTkN+pmH5s1G/e1C",
      "include_colab_link": true
    },
    "kernelspec": {
      "name": "python3",
      "display_name": "Python 3"
    },
    "language_info": {
      "name": "python"
    }
  },
  "cells": [
    {
      "cell_type": "markdown",
      "metadata": {
        "id": "view-in-github",
        "colab_type": "text"
      },
      "source": [
        "<a href=\"https://colab.research.google.com/github/NahataiTep/DPDM65/blob/main/Quiz1.ipynb\" target=\"_parent\"><img src=\"https://colab.research.google.com/assets/colab-badge.svg\" alt=\"Open In Colab\"/></a>"
      ]
    },
    {
      "cell_type": "markdown",
      "source": [
        "20/7/65"
      ],
      "metadata": {
        "id": "WPEuT4BvYjo9"
      }
    },
    {
      "cell_type": "markdown",
      "source": [
        "### QUIZ1"
      ],
      "metadata": {
        "id": "bRbVxTcRYchO"
      }
    },
    {
      "cell_type": "markdown",
      "source": [
        "เขียน function แสดงความต่างของเวลา โดย input อยู่ในรูปแบบ 'XX:YY:ZZ - AA:BB:CC' และวนลูปแสดงผลของ input ต่อไปนี้\n",
        "* '09:11:50 - 12:30:15'\n",
        "* '13:41:07 - 20:00:18'\n",
        "* '00:00:00 - 23:59:59'\n",
        "* '18:04:11 - 00:00:00'\n",
        "* '21:30:00 - 03:05:15'\n",
        "\n",
        "ตัวอย่าง \n",
        "\n",
        "input:  '00:00:00 - 01:00:00'\n",
        "\n",
        "output: ช่วงเวลาระหว่าง 00:00:00 ถึง 01:00:00 มีเวลาทั้งหมด 3,600 วินาที"
      ],
      "metadata": {
        "id": "AgJjnQAJYsn0"
      }
    },
    {
      "cell_type": "markdown",
      "source": [
        "***"
      ],
      "metadata": {
        "id": "5sJF32SBi5eZ"
      }
    },
    {
      "cell_type": "markdown",
      "source": [
        "Test"
      ],
      "metadata": {
        "id": "VJpIlH7WvrBl"
      }
    },
    {
      "cell_type": "code",
      "source": [
        "def Time1(X, Y, Z, A, B, C) :\n",
        "    time1 = X*60*60 + Y*60 + Z\n",
        "    time2 = A*60*60 + B*60 + C\n",
        "    time = time2 - time1\n",
        "    print(f'ช่วงเวลาระหว่าง {X}:{Y}:{Z} ถึง {A}:{B}:{C} มีเวลาทั้งหมด {time} วินาที')"
      ],
      "metadata": {
        "id": "3oqMBPtDmSZP"
      },
      "execution_count": 94,
      "outputs": []
    },
    {
      "cell_type": "code",
      "source": [
        "Time1(0, 0, 0, 1, 0, 0)"
      ],
      "metadata": {
        "colab": {
          "base_uri": "https://localhost:8080/"
        },
        "id": "E7NMmMfnm_Ad",
        "outputId": "6a80f42d-c472-4d59-94d7-6ef2a1c34184"
      },
      "execution_count": 95,
      "outputs": [
        {
          "output_type": "stream",
          "name": "stdout",
          "text": [
            "ช่วงเวลาระหว่าง 0:0:0 ถึง 1:0:0 มีเวลาทั้งหมด 3600 วินาที\n"
          ]
        }
      ]
    },
    {
      "cell_type": "markdown",
      "source": [
        "***"
      ],
      "metadata": {
        "id": "CIuXjg9Im_6Q"
      }
    },
    {
      "cell_type": "markdown",
      "source": [
        "Complete!"
      ],
      "metadata": {
        "id": "R-tVRES0vslh"
      }
    },
    {
      "cell_type": "code",
      "source": [
        "def Time(period) :\n",
        "    X = int(period[0:2])\n",
        "    Y = int(period[3:5])\n",
        "    Z = int(period[6:8])\n",
        "    A = int(period[11:13])\n",
        "    B = int(period[14:16])\n",
        "    C = int(period[17:19])\n",
        "    if X > A:\n",
        "        A = A + 24\n",
        "    elif X <= A & Y > B:\n",
        "        A = A + 24\n",
        "    elif X <= A & Y <= B & Z > C:\n",
        "        A = A + 24\n",
        "    time1 = X*60*60 + Y*60 + Z\n",
        "    time2 = A*60*60 + B*60 + C\n",
        "    time = time2 - time1\n",
        "    print(f'ช่วงเวลาระหว่าง {period[:8]} ถึง {period[11:]} มีเวลาทั้งหมด {time} วินาที')"
      ],
      "metadata": {
        "id": "R-l-m1RgeZN2"
      },
      "execution_count": 90,
      "outputs": []
    },
    {
      "cell_type": "code",
      "source": [
        "Input = ['09:11:50 - 12:30:15', '13:41:07 - 20:00:18', '00:00:00 - 23:59:59', '18:04:11 - 00:00:00', '21:30:00 - 03:05:15']\n",
        "for i in Input:\n",
        "    period = i\n",
        "    Time(period)"
      ],
      "metadata": {
        "colab": {
          "base_uri": "https://localhost:8080/"
        },
        "id": "AoD3NtpZg88b",
        "outputId": "38bd1c35-131a-4971-f820-c7f4102ca1f2"
      },
      "execution_count": 91,
      "outputs": [
        {
          "output_type": "stream",
          "name": "stdout",
          "text": [
            "ช่วงเวลาระหว่าง 09:11:50 ถึง 12:30:15 มีเวลาทั้งหมด 11905 วินาที\n",
            "ช่วงเวลาระหว่าง 13:41:07 ถึง 20:00:18 มีเวลาทั้งหมด 22751 วินาที\n",
            "ช่วงเวลาระหว่าง 00:00:00 ถึง 23:59:59 มีเวลาทั้งหมด 86399 วินาที\n",
            "ช่วงเวลาระหว่าง 18:04:11 ถึง 00:00:00 มีเวลาทั้งหมด 21349 วินาที\n",
            "ช่วงเวลาระหว่าง 21:30:00 ถึง 03:05:15 มีเวลาทั้งหมด 20115 วินาที\n"
          ]
        }
      ]
    },
    {
      "cell_type": "code",
      "source": [
        "Input = ['18:18:18 - 17:18:18', '18:18:18 - 18:17:18', '18:18:18 - 18:18:17', '18:18:18 - 17:17:17']\n",
        "for i in Input:\n",
        "    period = i\n",
        "    Time(period)"
      ],
      "metadata": {
        "colab": {
          "base_uri": "https://localhost:8080/"
        },
        "id": "6_-g9vkLmPBX",
        "outputId": "d6addc40-2378-41b0-c734-d27bb47a3eac"
      },
      "execution_count": 93,
      "outputs": [
        {
          "output_type": "stream",
          "name": "stdout",
          "text": [
            "ช่วงเวลาระหว่าง 18:18:18 ถึง 17:18:18 มีเวลาทั้งหมด 82800 วินาที\n",
            "ช่วงเวลาระหว่าง 18:18:18 ถึง 18:17:18 มีเวลาทั้งหมด 86340 วินาที\n",
            "ช่วงเวลาระหว่าง 18:18:18 ถึง 18:18:17 มีเวลาทั้งหมด 86399 วินาที\n",
            "ช่วงเวลาระหว่าง 18:18:18 ถึง 17:17:17 มีเวลาทั้งหมด 82739 วินาที\n"
          ]
        }
      ]
    },
    {
      "cell_type": "markdown",
      "source": [
        "***"
      ],
      "metadata": {
        "id": "jcGXP_3CqIvq"
      }
    },
    {
      "cell_type": "markdown",
      "source": [
        "## คำสั่ง split\n",
        "\n",
        "```\n",
        "string.split(separator, maxsplit)\n",
        "```\n",
        "\n",
        " คือ การแบ่ง string เป็นส่วนๆ \n",
        " * separator = สัญลักษณ์ที่ใช้ตัดแบ่ง (ถ้าไม่ใส่ จะมี default เป็นช่องว่าง)\n",
        " * maxsplit = จำนวนส่วนที่มากที่สุด ที่จะตัดแบ่ง"
      ],
      "metadata": {
        "id": "zGXeIaVKq2H4"
      }
    },
    {
      "cell_type": "code",
      "source": [
        "time = '09:11:50 - 12:30:15'"
      ],
      "metadata": {
        "id": "ucFIpR7Jq1tx"
      },
      "execution_count": 102,
      "outputs": []
    },
    {
      "cell_type": "code",
      "source": [
        "time.split(' - ') "
      ],
      "metadata": {
        "colab": {
          "base_uri": "https://localhost:8080/"
        },
        "id": "PFX2mn-Eq1BQ",
        "outputId": "f0658fa5-6567-4333-ea4a-164e4836276c"
      },
      "execution_count": 103,
      "outputs": [
        {
          "output_type": "execute_result",
          "data": {
            "text/plain": [
              "['09:11:50', '12:30:15']"
            ]
          },
          "metadata": {},
          "execution_count": 103
        }
      ]
    },
    {
      "cell_type": "code",
      "source": [
        "time.split()      # default = ช่องว่าง"
      ],
      "metadata": {
        "colab": {
          "base_uri": "https://localhost:8080/"
        },
        "id": "XJ4XwevnrDy_",
        "outputId": "778947c3-ac52-4ca7-e145-0ffef2fee349"
      },
      "execution_count": 104,
      "outputs": [
        {
          "output_type": "execute_result",
          "data": {
            "text/plain": [
              "['09:11:50', '-', '12:30:15']"
            ]
          },
          "metadata": {},
          "execution_count": 104
        }
      ]
    },
    {
      "cell_type": "markdown",
      "source": [
        "***"
      ],
      "metadata": {
        "id": "Sx83Ut__tIi0"
      }
    },
    {
      "cell_type": "markdown",
      "source": [
        "## เฉลย QUIZ1\n",
        "\n",
        "(ใช้ฟังก์ชัน split)"
      ],
      "metadata": {
        "id": "so6nENMFtJmV"
      }
    },
    {
      "cell_type": "code",
      "source": [
        "time = '09:11:50 - 12:30:15'\n",
        "\n",
        "T = time.split(' - ')\n",
        "Tstart = T[0]\n",
        "Tend = T[-1]\n",
        "\n",
        "SplitS = Tstart.split(':')\n",
        "Sstart = 3600*int(SplitS[0]) + 60*int(SplitS[1]) + int(SplitS[2])\n",
        "\n",
        "SplitE = Tend.split(':')\n",
        "Send = 3600*int(SplitE[0]) + 60*int(SplitE[1]) + int(SplitE[2])\n",
        "\n",
        "if Send < Sstart :\n",
        "    print(f'ช่วงเวลาระหว่าง {Tstart} ถึง {Tend} มีเวลาทั้งหมด {Send + 24*3600 - Sstart} วินาที')\n",
        "else :\n",
        "    print(f'ช่วงเวลาระหว่าง {Tstart} ถึง {Tend} มีเวลาทั้งหมด {Send - Sstart} วินาที')"
      ],
      "metadata": {
        "colab": {
          "base_uri": "https://localhost:8080/"
        },
        "id": "cU6bj0L6sZwO",
        "outputId": "e239755f-4d84-4c26-bbbf-190f1cdc139c"
      },
      "execution_count": 109,
      "outputs": [
        {
          "output_type": "stream",
          "name": "stdout",
          "text": [
            "ช่วงเวลาระหว่าง 09:11:50 ถึง 12:30:15 มีเวลาทั้งหมด 11905 วินาที\n"
          ]
        }
      ]
    },
    {
      "cell_type": "code",
      "source": [
        "time = '18:04:11 - 00:00:00'\n",
        "\n",
        "T = time.split(' - ')\n",
        "Tstart = T[0]\n",
        "Tend = T[-1]\n",
        "\n",
        "SplitS = Tstart.split(':')\n",
        "Sstart = 3600*int(SplitS[0]) + 60*int(SplitS[1]) + int(SplitS[2])\n",
        "\n",
        "SplitE = Tend.split(':')\n",
        "Send = 3600*int(SplitE[0]) + 60*int(SplitE[1]) + int(SplitE[2])\n",
        "\n",
        "if Send < Sstart :\n",
        "    print(f'ช่วงเวลาระหว่าง {Tstart} ถึง {Tend} มีเวลาทั้งหมด {Send + 24*3600 - Sstart:,} วินาที')\n",
        "else :\n",
        "    print(f'ช่วงเวลาระหว่าง {Tstart} ถึง {Tend} มีเวลาทั้งหมด {Send - Sstart:,} วินาที')"
      ],
      "metadata": {
        "colab": {
          "base_uri": "https://localhost:8080/"
        },
        "id": "xsu8x6ffurAz",
        "outputId": "23faef13-c410-498e-8d75-a7a2d443ce73"
      },
      "execution_count": 111,
      "outputs": [
        {
          "output_type": "stream",
          "name": "stdout",
          "text": [
            "ช่วงเวลาระหว่าง 18:04:11 ถึง 00:00:00 มีเวลาทั้งหมด 21,349 วินาที\n"
          ]
        }
      ]
    },
    {
      "cell_type": "markdown",
      "source": [
        "string format --> ใส่ :, เพื่อให้ตัวเลขคำตอบมีการใส่ , ขั้น"
      ],
      "metadata": {
        "id": "x3Q4l45ovMcI"
      }
    },
    {
      "cell_type": "code",
      "source": [
        "def cal_time(time) :\n",
        "    T = time.split(' - ')\n",
        "    Tstart = T[0]\n",
        "    Tend = T[-1]\n",
        "\n",
        "    SplitS = Tstart.split(':')\n",
        "    Sstart = 3600*int(SplitS[0]) + 60*int(SplitS[1]) + int(SplitS[2])\n",
        "\n",
        "    SplitE = Tend.split(':')\n",
        "    Send = 3600*int(SplitE[0]) + 60*int(SplitE[1]) + int(SplitE[2])\n",
        "\n",
        "    if Send < Sstart :\n",
        "        return f'ช่วงเวลาระหว่าง {Tstart} ถึง {Tend} มีเวลาทั้งหมด {Send + 24*3600 - Sstart:,} วินาที'\n",
        "    else :\n",
        "        return f'ช่วงเวลาระหว่าง {Tstart} ถึง {Tend} มีเวลาทั้งหมด {Send - Sstart:,} วินาที'"
      ],
      "metadata": {
        "id": "qQ653OKIwAI_"
      },
      "execution_count": 112,
      "outputs": []
    },
    {
      "cell_type": "code",
      "source": [
        "cal_time('09:11:50 - 12:30:15')"
      ],
      "metadata": {
        "colab": {
          "base_uri": "https://localhost:8080/",
          "height": 34
        },
        "id": "LtxLTz7-wMR6",
        "outputId": "2e86e2cf-3062-4b72-a5f8-f6b3842a92ed"
      },
      "execution_count": 113,
      "outputs": [
        {
          "output_type": "execute_result",
          "data": {
            "text/plain": [
              "'ช่วงเวลาระหว่าง 09:11:50 ถึง 12:30:15 มีเวลาทั้งหมด 11,905 วินาที'"
            ],
            "application/vnd.google.colaboratory.intrinsic+json": {
              "type": "string"
            }
          },
          "metadata": {},
          "execution_count": 113
        }
      ]
    }
  ]
}