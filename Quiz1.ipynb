{
  "nbformat": 4,
  "nbformat_minor": 0,
  "metadata": {
    "colab": {
      "name": "Quiz1.ipynb",
      "provenance": [],
      "authorship_tag": "ABX9TyPGxCA7mwyUVTeBHU5X6Gr3",
      "include_colab_link": true
    },
    "kernelspec": {
      "name": "python3",
      "display_name": "Python 3"
    },
    "language_info": {
      "name": "python"
    }
  },
  "cells": [
    {
      "cell_type": "markdown",
      "metadata": {
        "id": "view-in-github",
        "colab_type": "text"
      },
      "source": [
        "<a href=\"https://colab.research.google.com/github/NahataiTep/DPDM65/blob/main/Quiz1.ipynb\" target=\"_parent\"><img src=\"https://colab.research.google.com/assets/colab-badge.svg\" alt=\"Open In Colab\"/></a>"
      ]
    },
    {
      "cell_type": "markdown",
      "source": [
        "20/7/65"
      ],
      "metadata": {
        "id": "WPEuT4BvYjo9"
      }
    },
    {
      "cell_type": "markdown",
      "source": [
        "### QUIZ1"
      ],
      "metadata": {
        "id": "bRbVxTcRYchO"
      }
    },
    {
      "cell_type": "markdown",
      "source": [
        "เขียน function แสดงความต่างของเวลา โดย input อยู่ในรูปแบบ 'XX:YY:ZZ - AA:BB:CC' และวนลูปแสดงผลของ input ต่อไปนี้\n",
        "* '09:11:50 - 12:30:15'\n",
        "* '13:41:07 - 20:00:18'\n",
        "* '00:00:00 - 23:59:59'\n",
        "* '18:04:11 - 00:00:00'\n",
        "* '21:30:00 - 03:05:15'\n",
        "\n",
        "ตัวอย่าง \n",
        "\n",
        "input:  '00:00:00 - 01:00:00'\n",
        "\n",
        "output: ช่วงเวลาระหว่าง 00:00:00 ถึง 01:00:00 มีเวลาทั้งหมด 3,600 วินาที"
      ],
      "metadata": {
        "id": "AgJjnQAJYsn0"
      }
    },
    {
      "cell_type": "markdown",
      "source": [
        "***"
      ],
      "metadata": {
        "id": "5sJF32SBi5eZ"
      }
    },
    {
      "cell_type": "code",
      "source": [
        "def Time(period) :\n",
        "    X = int(period[0:2])\n",
        "    Y = int(period[3:5])\n",
        "    Z = int(period[6:8])\n",
        "    A = int(period[11:13])\n",
        "    B = int(period[14:16])\n",
        "    C = int(period[17:19])\n",
        "    if X > A:\n",
        "        A = A + 24\n",
        "    elif X <= A & Y > B:\n",
        "        A = A + 24\n",
        "    elif X <= A & Y <= B & Z > C:\n",
        "        A = A+24\n",
        "    time1 = X*60*60 + Y*60 + Z\n",
        "    time2 = A*60*60 + B*60 + C\n",
        "    time = time2 - time1\n",
        "    print(f'ช่วงเวลาระหว่าง {period[:8]} ถึง {period[11:]} มีเวลาทั้งหมด {time} วินาที')"
      ],
      "metadata": {
        "id": "R-l-m1RgeZN2"
      },
      "execution_count": 75,
      "outputs": []
    },
    {
      "cell_type": "code",
      "source": [
        "Input = ['09:11:50 - 12:30:15', '13:41:07 - 20:00:18', '00:00:00 - 23:59:59', '18:04:11 - 00:00:00', '21:30:00 - 03:05:15']\n",
        "for i in Input:\n",
        "    period = i\n",
        "    Time(period)"
      ],
      "metadata": {
        "colab": {
          "base_uri": "https://localhost:8080/"
        },
        "id": "AoD3NtpZg88b",
        "outputId": "813c206a-7d8c-4c9a-9e40-6387b7aa8087"
      },
      "execution_count": 79,
      "outputs": [
        {
          "output_type": "stream",
          "name": "stdout",
          "text": [
            "ช่วงเวลาระหว่าง 09:11:50 ถึง 12:30:15 มีเวลาทั้งหมด 11905 วินาที\n",
            "ช่วงเวลาระหว่าง 13:41:07 ถึง 20:00:18 มีเวลาทั้งหมด 22751 วินาที\n",
            "ช่วงเวลาระหว่าง 00:00:00 ถึง 23:59:59 มีเวลาทั้งหมด 86399 วินาที\n",
            "ช่วงเวลาระหว่าง 18:04:11 ถึง 00:00:00 มีเวลาทั้งหมด 21349 วินาที\n",
            "ช่วงเวลาระหว่าง 21:30:00 ถึง 03:05:15 มีเวลาทั้งหมด 20115 วินาที\n"
          ]
        }
      ]
    }
  ]
}